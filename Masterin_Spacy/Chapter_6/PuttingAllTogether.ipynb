{
 "cells": [
  {
   "cell_type": "markdown",
   "id": "606ee2c8-6e1d-459f-aa93-fc3aa11a5882",
   "metadata": {},
   "source": [
    "In this section we will integrate all what we have learnt from the past 5 chapters. Let's **Put all together**. \n",
    "\n",
    "We will cover .. \n",
    "* Extracting named entities\n",
    "* Using dependency relations for intent recognition\n",
    "* Semantic similarity methods for semantic parsing\n",
    "* Putting it all together\n",
    "\n",
    "[**Codes**](https://github.com/PacktPublishing/Mastering-spaCy/tree/main/Chapter06)\n",
    "\n",
    "## Semantic Parsing with spaCy \n",
    "\n",
    "We are going to work on **Airline Travel Information System (ATIS)** as known as  airplane ticket reservation system dataset. \n"
   ]
  },
  {
   "cell_type": "markdown",
   "id": "978fdfd5-7ec0-47c5-9d39-5c17c2503a8b",
   "metadata": {},
   "source": [
    "#### Dataset Overview\n",
    "\n",
    "This dataset is one of standard benchmark dataset for intent(நோக்கம்) classification. This dataset containes customer utterance (வாடிக்கையாளர் பேச்சு), s who want to book\n",
    "a flight, get information about the flights, including flight costs, flight\n",
    "destinations, and timetables. \n",
    "\n",
    "**Before processing any dataset, we should look this by our naked eye** \n",
    "\n",
    "* What kind of utterances are there? Is it a short text corpus or does the\n",
    "    corpus consist of long documents or medium-length paragraphs?\n",
    "* What sort of entities does the corpus include? People's names, city\n",
    "    names, country names, organization names, and so on. Which ones do we\n",
    "    want to extract?\n",
    "* How is punctuation used? Is the text correctly punctuated, or is no\n",
    "    punctuation used at all?\n",
    "* How are the grammatical rules followed? Is the capitalization correct?\n",
    "* Did users follow the grammatical rules? Are there misspelled words?\n"
   ]
  },
  {
   "cell_type": "code",
   "execution_count": 29,
   "id": "ec5b9991-657f-4d44-9f33-02a06fe1b089",
   "metadata": {},
   "outputs": [],
   "source": [
    "from spacy.matcher import Matcher\n",
    "from collections import Counter\n",
    "from spacy import displacy\n",
    "import en_core_web_md\n",
    "import pandas as pd\n",
    "import spacy \n",
    "\n",
    "\n",
    "nlp = en_core_web_md.load()"
   ]
  },
  {
   "cell_type": "code",
   "execution_count": 2,
   "id": "1d05f009-289c-49d9-895f-7ce7892ada64",
   "metadata": {},
   "outputs": [
    {
     "data": {
      "text/html": [
       "<div>\n",
       "<style scoped>\n",
       "    .dataframe tbody tr th:only-of-type {\n",
       "        vertical-align: middle;\n",
       "    }\n",
       "\n",
       "    .dataframe tbody tr th {\n",
       "        vertical-align: top;\n",
       "    }\n",
       "\n",
       "    .dataframe thead th {\n",
       "        text-align: right;\n",
       "    }\n",
       "</style>\n",
       "<table border=\"1\" class=\"dataframe\">\n",
       "  <thead>\n",
       "    <tr style=\"text-align: right;\">\n",
       "      <th></th>\n",
       "      <th>0</th>\n",
       "      <th>1</th>\n",
       "    </tr>\n",
       "  </thead>\n",
       "  <tbody>\n",
       "    <tr>\n",
       "      <th>0</th>\n",
       "      <td>atis_flight</td>\n",
       "      <td>i want to fly from boston at 838 am and arriv...</td>\n",
       "    </tr>\n",
       "    <tr>\n",
       "      <th>1</th>\n",
       "      <td>atis_flight</td>\n",
       "      <td>what flights are available from pittsburgh to...</td>\n",
       "    </tr>\n",
       "    <tr>\n",
       "      <th>2</th>\n",
       "      <td>atis_flight_time</td>\n",
       "      <td>what is the arrival time in san francisco for...</td>\n",
       "    </tr>\n",
       "    <tr>\n",
       "      <th>3</th>\n",
       "      <td>atis_airfare</td>\n",
       "      <td>cheapest airfare from tacoma to orlando</td>\n",
       "    </tr>\n",
       "    <tr>\n",
       "      <th>4</th>\n",
       "      <td>atis_airfare</td>\n",
       "      <td>round trip fares from pittsburgh to philadelp...</td>\n",
       "    </tr>\n",
       "  </tbody>\n",
       "</table>\n",
       "</div>"
      ],
      "text/plain": [
       "                  0                                                  1\n",
       "0       atis_flight   i want to fly from boston at 838 am and arriv...\n",
       "1       atis_flight   what flights are available from pittsburgh to...\n",
       "2  atis_flight_time   what is the arrival time in san francisco for...\n",
       "3      atis_airfare            cheapest airfare from tacoma to orlando\n",
       "4      atis_airfare   round trip fares from pittsburgh to philadelp..."
      ]
     },
     "execution_count": 2,
     "metadata": {},
     "output_type": "execute_result"
    }
   ],
   "source": [
    "dataset = pd.read_csv(\"https://raw.githubusercontent.com/PacktPublishing/Mastering-spaCy/main/Chapter06/data/atis_intents.csv\", header = None) \n",
    "# dataset.columns = ['intents', 'utterance']\n",
    "dataset.head()"
   ]
  },
  {
   "cell_type": "code",
   "execution_count": 3,
   "id": "bc6fd8ad-e23c-4824-8bd8-93c291e9b934",
   "metadata": {},
   "outputs": [
    {
     "name": "stdout",
     "output_type": "stream",
     "text": [
      " i want to fly from boston at 838 am and arrive in denver at 1110 in the morning\n",
      " what flights are available from pittsburgh to baltimore on thursday morning\n",
      " what is the arrival time in san francisco for the 755 am flight leaving washington\n",
      " cheapest airfare from tacoma to orlando\n",
      " round trip fares from pittsburgh to philadelphia under 1000 dollars\n"
     ]
    }
   ],
   "source": [
    "# let's print some text \n",
    "\n",
    "for text in dataset[1].head(): \n",
    "    print(text)"
   ]
  },
  {
   "cell_type": "markdown",
   "id": "74cd7a72-6f45-4489-87f3-bff72d2cd2e2",
   "metadata": {},
   "source": [
    "**Small analysiss**\n",
    "As we can see, the first user wants to book a flight; they included the\n",
    "destination, the source cities, and the flight time. The third user is asking\n",
    "about the arrival time of a specific flight and the fifth user made a query\n",
    "with a price limit. The utterances are not capitalized or punctuated. This\n",
    "is because these utterances are an output of a speech-to-text engine.\n"
   ]
  },
  {
   "cell_type": "code",
   "execution_count": 4,
   "id": "697a67ef-4a4c-4271-a0aa-4f920529f93c",
   "metadata": {},
   "outputs": [
    {
     "name": "stdout",
     "output_type": "stream",
     "text": [
      "0\n",
      "atis_abbreviation                            147\n",
      "atis_aircraft                                 81\n",
      "atis_aircraft#atis_flight#atis_flight_no       1\n",
      "atis_airfare                                 423\n",
      "atis_airfare#atis_flight_time                  1\n",
      "atis_airline                                 157\n",
      "atis_airline#atis_flight_no                    2\n",
      "atis_airport                                  20\n",
      "atis_capacity                                 16\n",
      "atis_cheapest                                  1\n",
      "atis_city                                     19\n",
      "atis_distance                                 20\n",
      "atis_flight                                 3666\n",
      "atis_flight#atis_airfare                      21\n",
      "atis_flight_no                                12\n",
      "atis_flight_time                              54\n",
      "atis_ground_fare                              18\n",
      "atis_ground_service                          255\n",
      "atis_ground_service#atis_ground_fare           1\n",
      "atis_meal                                      6\n",
      "atis_quantity                                 51\n",
      "atis_restriction                               6\n",
      "dtype: int64\n"
     ]
    }
   ],
   "source": [
    "grouped = dataset.groupby(0).size() \n",
    "\n",
    "print(grouped)"
   ]
  },
  {
   "cell_type": "markdown",
   "id": "9025e4b2-fc9f-4ef7-a8b5-ceb4d7ac6376",
   "metadata": {},
   "source": [
    "#### Extract NER with matCher\n",
    "\n",
    "As we have already seen, this is a flights dataset. Hence, we expect to see\n",
    "city/country names, airport names, and airline names:"
   ]
  },
  {
   "cell_type": "code",
   "execution_count": 5,
   "id": "4bff12f5-1603-4939-bdde-45b541e301c1",
   "metadata": {},
   "outputs": [
    {
     "data": {
      "text/html": [
       "<span class=\"tex2jax_ignore\"><div class=\"entities\" style=\"line-height: 2.5; direction: ltr\"> i want to fly from \n",
       "<mark class=\"entity\" style=\"background: #feca74; padding: 0.45em 0.6em; margin: 0 0.25em; line-height: 1; border-radius: 0.35em;\">\n",
       "    boston\n",
       "    <span style=\"font-size: 0.8em; font-weight: bold; line-height: 1; border-radius: 0.35em; vertical-align: middle; margin-left: 0.5rem\">GPE</span>\n",
       "</mark>\n",
       " at \n",
       "<mark class=\"entity\" style=\"background: #bfe1d9; padding: 0.45em 0.6em; margin: 0 0.25em; line-height: 1; border-radius: 0.35em;\">\n",
       "    838 am\n",
       "    <span style=\"font-size: 0.8em; font-weight: bold; line-height: 1; border-radius: 0.35em; vertical-align: middle; margin-left: 0.5rem\">TIME</span>\n",
       "</mark>\n",
       " and arrive in \n",
       "<mark class=\"entity\" style=\"background: #feca74; padding: 0.45em 0.6em; margin: 0 0.25em; line-height: 1; border-radius: 0.35em;\">\n",
       "    denver\n",
       "    <span style=\"font-size: 0.8em; font-weight: bold; line-height: 1; border-radius: 0.35em; vertical-align: middle; margin-left: 0.5rem\">GPE</span>\n",
       "</mark>\n",
       " at \n",
       "<mark class=\"entity\" style=\"background: #bfe1d9; padding: 0.45em 0.6em; margin: 0 0.25em; line-height: 1; border-radius: 0.35em;\">\n",
       "    1110\n",
       "    <span style=\"font-size: 0.8em; font-weight: bold; line-height: 1; border-radius: 0.35em; vertical-align: middle; margin-left: 0.5rem\">DATE</span>\n",
       "</mark>\n",
       " in the \n",
       "<mark class=\"entity\" style=\"background: #bfe1d9; padding: 0.45em 0.6em; margin: 0 0.25em; line-height: 1; border-radius: 0.35em;\">\n",
       "    morning\n",
       "    <span style=\"font-size: 0.8em; font-weight: bold; line-height: 1; border-radius: 0.35em; vertical-align: middle; margin-left: 0.5rem\">TIME</span>\n",
       "</mark>\n",
       "</div></span>"
      ],
      "text/plain": [
       "<IPython.core.display.HTML object>"
      ]
     },
     "metadata": {},
     "output_type": "display_data"
    },
    {
     "data": {
      "text/html": [
       "<span class=\"tex2jax_ignore\"><div class=\"entities\" style=\"line-height: 2.5; direction: ltr\"> what flights are available from \n",
       "<mark class=\"entity\" style=\"background: #feca74; padding: 0.45em 0.6em; margin: 0 0.25em; line-height: 1; border-radius: 0.35em;\">\n",
       "    pittsburgh\n",
       "    <span style=\"font-size: 0.8em; font-weight: bold; line-height: 1; border-radius: 0.35em; vertical-align: middle; margin-left: 0.5rem\">GPE</span>\n",
       "</mark>\n",
       " to \n",
       "<mark class=\"entity\" style=\"background: #feca74; padding: 0.45em 0.6em; margin: 0 0.25em; line-height: 1; border-radius: 0.35em;\">\n",
       "    baltimore\n",
       "    <span style=\"font-size: 0.8em; font-weight: bold; line-height: 1; border-radius: 0.35em; vertical-align: middle; margin-left: 0.5rem\">GPE</span>\n",
       "</mark>\n",
       " on \n",
       "<mark class=\"entity\" style=\"background: #bfe1d9; padding: 0.45em 0.6em; margin: 0 0.25em; line-height: 1; border-radius: 0.35em;\">\n",
       "    thursday\n",
       "    <span style=\"font-size: 0.8em; font-weight: bold; line-height: 1; border-radius: 0.35em; vertical-align: middle; margin-left: 0.5rem\">DATE</span>\n",
       "</mark>\n",
       " \n",
       "<mark class=\"entity\" style=\"background: #bfe1d9; padding: 0.45em 0.6em; margin: 0 0.25em; line-height: 1; border-radius: 0.35em;\">\n",
       "    morning\n",
       "    <span style=\"font-size: 0.8em; font-weight: bold; line-height: 1; border-radius: 0.35em; vertical-align: middle; margin-left: 0.5rem\">TIME</span>\n",
       "</mark>\n",
       "</div></span>"
      ],
      "text/plain": [
       "<IPython.core.display.HTML object>"
      ]
     },
     "metadata": {},
     "output_type": "display_data"
    },
    {
     "data": {
      "text/html": [
       "<span class=\"tex2jax_ignore\"><div class=\"entities\" style=\"line-height: 2.5; direction: ltr\"> what is the arrival time in \n",
       "<mark class=\"entity\" style=\"background: #feca74; padding: 0.45em 0.6em; margin: 0 0.25em; line-height: 1; border-radius: 0.35em;\">\n",
       "    san francisco\n",
       "    <span style=\"font-size: 0.8em; font-weight: bold; line-height: 1; border-radius: 0.35em; vertical-align: middle; margin-left: 0.5rem\">GPE</span>\n",
       "</mark>\n",
       " for the \n",
       "<mark class=\"entity\" style=\"background: #e4e7d2; padding: 0.45em 0.6em; margin: 0 0.25em; line-height: 1; border-radius: 0.35em;\">\n",
       "    755\n",
       "    <span style=\"font-size: 0.8em; font-weight: bold; line-height: 1; border-radius: 0.35em; vertical-align: middle; margin-left: 0.5rem\">CARDINAL</span>\n",
       "</mark>\n",
       " am flight leaving \n",
       "<mark class=\"entity\" style=\"background: #feca74; padding: 0.45em 0.6em; margin: 0 0.25em; line-height: 1; border-radius: 0.35em;\">\n",
       "    washington\n",
       "    <span style=\"font-size: 0.8em; font-weight: bold; line-height: 1; border-radius: 0.35em; vertical-align: middle; margin-left: 0.5rem\">GPE</span>\n",
       "</mark>\n",
       "</div></span>"
      ],
      "text/plain": [
       "<IPython.core.display.HTML object>"
      ]
     },
     "metadata": {},
     "output_type": "display_data"
    },
    {
     "data": {
      "text/html": [
       "<span class=\"tex2jax_ignore\"><div class=\"entities\" style=\"line-height: 2.5; direction: ltr\"> cheapest airfare from \n",
       "<mark class=\"entity\" style=\"background: #feca74; padding: 0.45em 0.6em; margin: 0 0.25em; line-height: 1; border-radius: 0.35em;\">\n",
       "    tacoma\n",
       "    <span style=\"font-size: 0.8em; font-weight: bold; line-height: 1; border-radius: 0.35em; vertical-align: middle; margin-left: 0.5rem\">GPE</span>\n",
       "</mark>\n",
       " to \n",
       "<mark class=\"entity\" style=\"background: #feca74; padding: 0.45em 0.6em; margin: 0 0.25em; line-height: 1; border-radius: 0.35em;\">\n",
       "    orlando\n",
       "    <span style=\"font-size: 0.8em; font-weight: bold; line-height: 1; border-radius: 0.35em; vertical-align: middle; margin-left: 0.5rem\">GPE</span>\n",
       "</mark>\n",
       "</div></span>"
      ],
      "text/plain": [
       "<IPython.core.display.HTML object>"
      ]
     },
     "metadata": {},
     "output_type": "display_data"
    },
    {
     "data": {
      "text/html": [
       "<span class=\"tex2jax_ignore\"><div class=\"entities\" style=\"line-height: 2.5; direction: ltr\"> round trip fares from \n",
       "<mark class=\"entity\" style=\"background: #feca74; padding: 0.45em 0.6em; margin: 0 0.25em; line-height: 1; border-radius: 0.35em;\">\n",
       "    pittsburgh\n",
       "    <span style=\"font-size: 0.8em; font-weight: bold; line-height: 1; border-radius: 0.35em; vertical-align: middle; margin-left: 0.5rem\">GPE</span>\n",
       "</mark>\n",
       " to \n",
       "<mark class=\"entity\" style=\"background: #feca74; padding: 0.45em 0.6em; margin: 0 0.25em; line-height: 1; border-radius: 0.35em;\">\n",
       "    philadelphia\n",
       "    <span style=\"font-size: 0.8em; font-weight: bold; line-height: 1; border-radius: 0.35em; vertical-align: middle; margin-left: 0.5rem\">GPE</span>\n",
       "</mark>\n",
       " under 1000 dollars</div></span>"
      ],
      "text/plain": [
       "<IPython.core.display.HTML object>"
      ]
     },
     "metadata": {},
     "output_type": "display_data"
    }
   ],
   "source": [
    "for text in dataset[1].head(): \n",
    "    displacy.render(nlp(text), style = 'ent')"
   ]
  },
  {
   "cell_type": "code",
   "execution_count": 8,
   "id": "99dc0cbc-95c2-4da8-a147-c436670d4f7f",
   "metadata": {},
   "outputs": [],
   "source": [
    "df.to_csv(r'utterance.txt', header=None, index=None, sep=' ', mode='a')  # saving only the utterance columns"
   ]
  },
  {
   "cell_type": "code",
   "execution_count": 25,
   "id": "ec717470-1291-4e6e-993a-84fd15386dec",
   "metadata": {},
   "outputs": [],
   "source": [
    "corpus = open('utterance.txt', 'r').read()  # reading the file \n",
    "    "
   ]
  },
  {
   "cell_type": "code",
   "execution_count": 26,
   "id": "9311edaf-c89f-43bd-8250-b5527181d5f9",
   "metadata": {},
   "outputs": [],
   "source": [
    "corpus = corpus.replace('\"', '')  # replacing double quotes into empty \n",
    "corpus = corpus.split('\\n')   # seperating the new line character "
   ]
  },
  {
   "cell_type": "code",
   "execution_count": 27,
   "id": "3d43401c-c865-4e63-abdb-fd27aa06fa68",
   "metadata": {},
   "outputs": [],
   "source": [
    "all_ent_labels = []\n",
    "\n",
    "for sentence in corpus: \n",
    "    doc = nlp(sentence.strip()) \n",
    "    ents = doc.ents   \n",
    "    all_ent_labels += [ent.label_ for ent in ents] \n",
    "c = Counter(all_ent_labels)"
   ]
  },
  {
   "cell_type": "markdown",
   "id": "41fe6029-6d71-46c9-84b4-b6e98d5306f2",
   "metadata": {},
   "source": [
    "```Python\n",
    "all_ent_labels = []\n",
    "\n",
    "for sentence in corpus: \n",
    "    doc = nlp(sentence.strip())  # strip -> remove unwanted spaces \n",
    "    ents = doc.ents   # getting the entities \n",
    "    all_ent_labels += [ent.label_ for ent in ents]   # save the entity label to the list \n",
    "c = Counter(all_ent_labels)  # counting each label how many times it came\n",
    "```"
   ]
  },
  {
   "cell_type": "code",
   "execution_count": 28,
   "id": "74b803b7-b214-4cb2-8fbf-40107f6ce92c",
   "metadata": {},
   "outputs": [
    {
     "name": "stdout",
     "output_type": "stream",
     "text": [
      "Counter({'GPE': 9139, 'DATE': 1448, 'TIME': 1052, 'ORG': 452, 'ORDINAL': 188, 'CARDINAL': 169, 'FAC': 52, 'NORP': 51, 'MONEY': 37, 'PRODUCT': 12, 'PERSON': 8, 'LOC': 2, 'LAW': 1, 'QUANTITY': 1, 'PERCENT': 1})\n"
     ]
    }
   ],
   "source": [
    "print(c) "
   ]
  },
  {
   "cell_type": "markdown",
   "id": "f029cb7c-44b2-45fa-90e8-763200a57f7f",
   "metadata": {},
   "source": [
    "The most frequent entity labels are GPE\n",
    "(location names), DATE, TIME, and ORGANIZATION. Obviously, the\n",
    "location entities refer to destination and source cities/countries, hence\n",
    "they play a very important role in the overall semantic success of our\n",
    "application.\n",
    "\n",
    "#### Let's extract the Location Entities by Matcher\n",
    "\n",
    "We are going to extract the location by his **pre**-**position** (like From denver, to chennai, at banglore...)"
   ]
  },
  {
   "cell_type": "code",
   "execution_count": 32,
   "id": "6094fb6b-f4a5-41ba-bcd5-6cd98db01d08",
   "metadata": {},
   "outputs": [
    {
     "name": "stdout",
     "output_type": "stream",
     "text": [
      "from denver\n",
      "to boston\n"
     ]
    }
   ],
   "source": [
    "matcher = Matcher(nlp.vocab)  # usual way to initialize the matcher class \n",
    "\n",
    "pattern = [[ \n",
    "    {\"POS\": \"ADP\"},   # adposition = preposition + postposition (it helps to get the pre-positon of the gpe) \n",
    "    {\"ENT_TYPE\": \"GPE\"} \n",
    "]] \n",
    "\n",
    "matcher.add('prepositionLocation', pattern) \n",
    "\n",
    "doc = nlp(\"show me flights from denver to boston on tuesday\")\n",
    "matches = matcher(doc) \n",
    "\n",
    "for mid, start, end in matches: \n",
    "    print(doc[start:end])"
   ]
  },
  {
   "cell_type": "code",
   "execution_count": 31,
   "id": "6c894d29-36a8-4754-bf81-4eb76c09c044",
   "metadata": {},
   "outputs": [
    {
     "data": {
      "text/plain": [
       "'adposition'"
      ]
     },
     "execution_count": 31,
     "metadata": {},
     "output_type": "execute_result"
    }
   ],
   "source": [
    "spacy.explain('ADP')"
   ]
  },
  {
   "cell_type": "code",
   "execution_count": 36,
   "id": "d92d93a4-deb4-4cc3-8e88-4f41903e5dd6",
   "metadata": {},
   "outputs": [
    {
     "name": "stdout",
     "output_type": "stream",
     "text": [
      "to st\n",
      "of dallas\n",
      "of dallas\n",
      "in chicago\n"
     ]
    }
   ],
   "source": [
    "### Some tries with the added pattern \n",
    "\n",
    "# 1st try \n",
    "doc = nlp(\"yes i'd like a flight from long beach to st. louis by way of dallas\")\n",
    "matches = matcher(doc)\n",
    "\n",
    "for mid, start, end in matches:\n",
    "    print(doc[start:end])\n",
    "    \n",
    "# 2nd try \n",
    "doc = nlp(\"what are the evening flights flying out of dallas\")\n",
    "matches = matcher(doc)\n",
    "\n",
    "for mid, start, end in matches:\n",
    "    print(doc[start:end])\n",
    "    \n",
    "# 3rd try \n",
    "doc = nlp(\"i'm looking for a flight that goes from ontario to westchester and stops in chicago\")\n",
    "matches = matcher(doc)\n",
    "\n",
    "for mid, start, end in matches:\n",
    "    print(doc[start:end])"
   ]
  },
  {
   "cell_type": "markdown",
   "id": "9858c854-729e-4fcf-905f-219fd2ff8bcf",
   "metadata": {},
   "source": [
    "We are getting a good amount of results!!\n",
    "\n",
    "\n",
    "After extracting the locations, we can now extract the airline information.\n",
    "The ORG entity label means an organization and it corresponds to\n",
    "airline company names in our dataset. "
   ]
  },
  {
   "cell_type": "code",
   "execution_count": 38,
   "id": "9dc2f048-3a2d-4939-b685-414d9c66e248",
   "metadata": {},
   "outputs": [
    {
     "name": "stdout",
     "output_type": "stream",
     "text": [
      "united\n",
      "united airlines\n",
      "airlines\n",
      "from denver\n"
     ]
    }
   ],
   "source": [
    "# Now let's get the org name also \n",
    "\n",
    "pattern = [[ \n",
    "    {'ENT_TYPE': 'ORG', 'OP': '+'}   # '+' one or more \n",
    "]]\n",
    "\n",
    "matcher.add('AirlineName', pattern) \n",
    "\n",
    "doc = nlp(\"what is the earliest united airlines flight flying from denver\")\n",
    "matches = matcher(doc)\n",
    "\n",
    "for mid,start,end in matches:\n",
    "    print(doc[start:end])\n"
   ]
  },
  {
   "cell_type": "code",
   "execution_count": 41,
   "id": "754ae6b8-cbbe-4efd-8b07-d7dee638de07",
   "metadata": {},
   "outputs": [
    {
     "name": "stdout",
     "output_type": "stream",
     "text": [
      "to denver\n",
      "from denver\n"
     ]
    }
   ],
   "source": [
    "# Now let's try to get date and time \n",
    "\n",
    "pattern = [[\n",
    "    {'ENT_TYPE': 'DATE', 'ENT_TYPE': 'TIME', 'OP':'+'}\n",
    "]]\n",
    "\n",
    "matcher.add('TimePattern', pattern) \n",
    "\n",
    "doc = nlp(\"what is the earliest united date atlanta to denver flight flying from denver\")\n",
    "matches = matcher(doc)\n",
    "\n",
    "for mid,start,end in matches:\n",
    "    print(doc[start:end])\n",
    "    "
   ]
  },
  {
   "cell_type": "markdown",
   "id": "8a97ff58-4edd-4701-93a8-05e3dfc146f8",
   "metadata": {},
   "source": [
    " Now let's try to extract the abbreviated type entities, Extracting the abbreivation is a difficult task \n",
    " \n",
    "a) An abbreviation can be broken into two parts – letters, and digits.\n",
    "\n",
    "b) The letter part can be 1-2 characters long.\n",
    "\n",
    "c) The digit part is also 1-2 characters long.\n",
    "\n",
    "d) The presence of digits indicates an abbreviation entity.\n",
    "\n",
    "e) The presence of the following words indicates an abbreviation entity:\n",
    "class, code, abbreviation.\n",
    "\n",
    "f) The POS tag of an abbreviation is a noun. If the candidate word is a 1-\n",
    "letter or 2-letter word, then we can look at the POS tag and see whether\n",
    "it's a noun. This approach eliminates the false positives, such as us\n",
    "(pronoun), me (pronoun), a (determiner), and an (determiner).\n",
    "\n"
   ]
  },
  {
   "cell_type": "code",
   "execution_count": 45,
   "id": "990b2291-c352-42fe-9020-2d2d3f6d470e",
   "metadata": {},
   "outputs": [
    {
     "name": "stdout",
     "output_type": "stream",
     "text": [
      "ap 57\n",
      "57\n",
      "abbreviation co\n",
      "co\n",
      "code qo\n",
      "d10\n",
      "code y\n",
      "code f\n",
      "fn\n",
      "class c\n",
      "c\n"
     ]
    }
   ],
   "source": [
    "pattern1 = [{\"TEXT\": {\"REGEX\": \"\\w{1,2}\\d{1,2}\"}}]\n",
    "\n",
    "pattern2 = [{\"SHAPE\": { \"IN\": [\"x\", \"xx\"]}}, {\"SHAPE\": { \"IN\": [\"d\", \"dd\"]}}]\n",
    "\n",
    "pattern3 = [{\"TEXT\": {\"IN\": [\"class\", \"code\", \"abbrev\", \"abbreviation\"]}}, {\"SHAPE\": { \"IN\": [\"x\", \"xx\"]}}]\n",
    "\n",
    "pattern4 = [{\"POS\": \"NOUN\", \"SHAPE\": { \"IN\": [\"x\", \"xx\"]}}]\n",
    "\n",
    "matcher.add(\"abbrevEntities\", [pattern1, pattern2, pattern3, pattern4])\n",
    "\n",
    "sentences = [\n",
    "'what does restriction ap 57 mean',\n",
    "'what does the abbreviation co mean',\n",
    "'what does fare code qo mean',\n",
    "'what is the abbreviation d10',\n",
    "'what does code y mean',\n",
    "'what does the fare code f and fn mean',\n",
    "'what is booking class c'\n",
    "]\n",
    "\n",
    "for sent in sentences:\n",
    "    doc = nlp(sent)\n",
    "    matches = matcher(doc)\n",
    "\n",
    "    for mid, start, end in matches:\n",
    "        print(doc[start:end])\n",
    "\n",
    "\n"
   ]
  },
  {
   "cell_type": "markdown",
   "id": "fc230f5d-d3a2-4b10-8ccc-59b8ca4b65d2",
   "metadata": {},
   "source": [
    "a) The first pattern matches to a single token, which consists of 1-2\n",
    "letters and 1-2 digits. For example, d1, d10, ad1, and ad21 will match\n",
    "this pattern.\n",
    "\n",
    "b) The second pattern matches to 2-token abbreviations where the first\n",
    "token is 1-2 letters and the second token 1-2 digits. The abbreviations ap\n",
    "5, ap 57, a 5, and a 57 will match this pattern.\n",
    "\n",
    "c) The third pattern matches to two tokens too. The first token is a context\n",
    "clue word, such as class or code, and the second token should be a 1-2\n",
    "letter token. Some example matches are code f, code y, and class c.\n",
    "\n",
    "d) The fourth pattern extracts 1-2 letter short words whose POS tag is\n",
    "NOUN. Some example matches from the preceding sentences are c and\n",
    "co.\n"
   ]
  },
  {
   "cell_type": "markdown",
   "id": "a111354a-9dec-4220-b787-295c676f639b",
   "metadata": {},
   "source": [
    "## Using dependency trees for extracting entities\n"
   ]
  },
  {
   "cell_type": "markdown",
   "id": "44f69da8-cc67-4b9c-a184-9de6a5092ee1",
   "metadata": {},
   "source": [
    "In the last example, we extracted a very easy sentence, what If the sentence given by user like this? \n",
    "\n",
    "```Text \n",
    "\" I'm going to a conference in Munich. I need an air ticket.\n",
    "\n",
    "My sister's wedding will be held in Munich. I'd like to book a flight. \"\n",
    "```\n",
    "\n",
    "Here's the pre-position **to** refers to the **conference** (how, you will see this in code). Instead of parsing like last example we need to have a pattern like this **to + ... + GPE**, Then, we have to be careful what words can come in between \"to\" and the city name, as well as what words should not come.\n",
    "\n",
    "Let's look at another example: \n",
    "```Text \n",
    "\" I want to book a flight to my conference without stopping at Berlin. \"\n",
    "```\n",
    "\n",
    "Here, there's no **to** at all, we can't extract like this information, to understand clearly, we need to use the **dependency trees**, In chapter 3 we covered. \n",
    "\n",
    "#### Quick Recap \n",
    "\n",
    "Before proceeding to code, first, let's remember some concepts about dependency trees.\n",
    "ROOT is a special dependency label and is always assigned to the main verb of the sentence.\n",
    "spaCy shows syntactic relations with arcs. One of the tokens is the syntactic parent (called\n",
    "the HEAD) and the other is dependent (called the CHILD). By way of an example, in Figure\n",
    "Below, going has 3 syntactic children – I, m, and to. Equivalently, the syntactic head of to is\n",
    "going (the same applies to I and m).\n",
    "\n",
    "<center><img src=\"images/dep.png\" width=\"600\"/></center>\n",
    "\n",
    "\n",
    "There are no incoming arcs into the verb going, so going is the root of the\n",
    "dependency tree (when we examine the code, we'll see that the dependency\n",
    "label is ROOT). This is supposed to happen because going is the main verb\n",
    "of the sentence. If we follow the arc to its immediate right, we encounter to;\n",
    "jumping over the arcs to the right we reach Munich. This shows that there's a\n",
    "syntactic relation between to and Munich."
   ]
  },
  {
   "cell_type": "markdown",
   "id": "eda90d48-2cfb-4df4-b1b5-4e7e940d7e54",
   "metadata": {},
   "source": [
    "In code, we will travel **Right to left** to find the orignial destination(to). \n",
    "\n",
    "Right to left. We start from Munich, jump onto its head, and follow the\n",
    "head's head, and so on. Since each word has exactly one head, it's\n",
    "guaranteed that there will be only one path. Then we determine whether\n",
    "to is on this path or not.\n"
   ]
  },
  {
   "cell_type": "markdown",
   "id": "cd95c8a7-9e49-444f-8317-0e0344d9c5da",
   "metadata": {},
   "source": [
    "```Python \n",
    "def reach_parent(source_token, dest_token): \n",
    "    source_token = source_token.head   # it will give the head of the sentence \n",
    "    \n",
    "    while source_token != dest_token: \n",
    "        if source_token.head == source_token: \n",
    "            return None \n",
    "        source_token = source_token.head  # changing the head to source word for finding the destination word\n",
    "# In simple words, we finding the head word and checking this word is destination if not we make head word as souce word, this process ends when we reach destinatin\n",
    "\n",
    "        return source_token \n",
    "```"
   ]
  },
  {
   "cell_type": "code",
   "execution_count": 21,
   "id": "f83bd242-f166-49bc-a38b-5dfc8e0787c6",
   "metadata": {},
   "outputs": [
    {
     "data": {
      "text/plain": [
       "conference"
      ]
     },
     "execution_count": 21,
     "metadata": {},
     "output_type": "execute_result"
    }
   ],
   "source": [
    "import spacy \n",
    "import en_core_web_md \n",
    "\n",
    "nlp = en_core_web_md.load() \n",
    "doc = nlp(\"I'm going to a conference in Munich.\") \n",
    "\n",
    "def reach_parent(source_token, dest_token): \n",
    "    source_token = source_token.head  \n",
    "    \n",
    "    while source_token != dest_token: \n",
    "        if source_token.head == source_token: \n",
    "            return None \n",
    "        source_token = source_token.head \n",
    "\n",
    "        return source_token \n",
    "    \n",
    "reach_parent(doc[-2], doc[3])  # Munich -> to "
   ]
  },
  {
   "cell_type": "markdown",
   "id": "6c5d05e4-13c6-444d-a714-f855bf3daf6f",
   "metadata": {},
   "source": [
    "Intresting right, by using this loop, we will get more accuracte information"
   ]
  },
  {
   "cell_type": "code",
   "execution_count": 20,
   "id": "501c5ca3-f6e7-4b75-b986-b6820b3279f8",
   "metadata": {},
   "outputs": [
    {
     "data": {
      "text/html": [
       "<span class=\"tex2jax_ignore\"><svg xmlns=\"http://www.w3.org/2000/svg\" xmlns:xlink=\"http://www.w3.org/1999/xlink\" xml:lang=\"en\" id=\"092b3c84b4c0420bab9a3329725683ce-0\" class=\"displacy\" width=\"1450\" height=\"312.0\" direction=\"ltr\" style=\"max-width: none; height: 312.0px; color: #000000; background: #ffffff; font-family: Arial; direction: ltr\">\n",
       "<text class=\"displacy-token\" fill=\"currentColor\" text-anchor=\"middle\" y=\"222.0\">\n",
       "    <tspan class=\"displacy-word\" fill=\"currentColor\" x=\"50\">I</tspan>\n",
       "    <tspan class=\"displacy-tag\" dy=\"2em\" fill=\"currentColor\" x=\"50\">PRON</tspan>\n",
       "</text>\n",
       "\n",
       "<text class=\"displacy-token\" fill=\"currentColor\" text-anchor=\"middle\" y=\"222.0\">\n",
       "    <tspan class=\"displacy-word\" fill=\"currentColor\" x=\"225\">'m</tspan>\n",
       "    <tspan class=\"displacy-tag\" dy=\"2em\" fill=\"currentColor\" x=\"225\">AUX</tspan>\n",
       "</text>\n",
       "\n",
       "<text class=\"displacy-token\" fill=\"currentColor\" text-anchor=\"middle\" y=\"222.0\">\n",
       "    <tspan class=\"displacy-word\" fill=\"currentColor\" x=\"400\">going</tspan>\n",
       "    <tspan class=\"displacy-tag\" dy=\"2em\" fill=\"currentColor\" x=\"400\">VERB</tspan>\n",
       "</text>\n",
       "\n",
       "<text class=\"displacy-token\" fill=\"currentColor\" text-anchor=\"middle\" y=\"222.0\">\n",
       "    <tspan class=\"displacy-word\" fill=\"currentColor\" x=\"575\">to</tspan>\n",
       "    <tspan class=\"displacy-tag\" dy=\"2em\" fill=\"currentColor\" x=\"575\">ADP</tspan>\n",
       "</text>\n",
       "\n",
       "<text class=\"displacy-token\" fill=\"currentColor\" text-anchor=\"middle\" y=\"222.0\">\n",
       "    <tspan class=\"displacy-word\" fill=\"currentColor\" x=\"750\">a</tspan>\n",
       "    <tspan class=\"displacy-tag\" dy=\"2em\" fill=\"currentColor\" x=\"750\">DET</tspan>\n",
       "</text>\n",
       "\n",
       "<text class=\"displacy-token\" fill=\"currentColor\" text-anchor=\"middle\" y=\"222.0\">\n",
       "    <tspan class=\"displacy-word\" fill=\"currentColor\" x=\"925\">conference</tspan>\n",
       "    <tspan class=\"displacy-tag\" dy=\"2em\" fill=\"currentColor\" x=\"925\">NOUN</tspan>\n",
       "</text>\n",
       "\n",
       "<text class=\"displacy-token\" fill=\"currentColor\" text-anchor=\"middle\" y=\"222.0\">\n",
       "    <tspan class=\"displacy-word\" fill=\"currentColor\" x=\"1100\">in</tspan>\n",
       "    <tspan class=\"displacy-tag\" dy=\"2em\" fill=\"currentColor\" x=\"1100\">ADP</tspan>\n",
       "</text>\n",
       "\n",
       "<text class=\"displacy-token\" fill=\"currentColor\" text-anchor=\"middle\" y=\"222.0\">\n",
       "    <tspan class=\"displacy-word\" fill=\"currentColor\" x=\"1275\">Munich.</tspan>\n",
       "    <tspan class=\"displacy-tag\" dy=\"2em\" fill=\"currentColor\" x=\"1275\">PROPN</tspan>\n",
       "</text>\n",
       "\n",
       "<g class=\"displacy-arrow\">\n",
       "    <path class=\"displacy-arc\" id=\"arrow-092b3c84b4c0420bab9a3329725683ce-0-0\" stroke-width=\"2px\" d=\"M70,177.0 C70,2.0 400.0,2.0 400.0,177.0\" fill=\"none\" stroke=\"currentColor\"/>\n",
       "    <text dy=\"1.25em\" style=\"font-size: 0.8em; letter-spacing: 1px\">\n",
       "        <textPath xlink:href=\"#arrow-092b3c84b4c0420bab9a3329725683ce-0-0\" class=\"displacy-label\" startOffset=\"50%\" side=\"left\" fill=\"currentColor\" text-anchor=\"middle\">nsubj</textPath>\n",
       "    </text>\n",
       "    <path class=\"displacy-arrowhead\" d=\"M70,179.0 L62,167.0 78,167.0\" fill=\"currentColor\"/>\n",
       "</g>\n",
       "\n",
       "<g class=\"displacy-arrow\">\n",
       "    <path class=\"displacy-arc\" id=\"arrow-092b3c84b4c0420bab9a3329725683ce-0-1\" stroke-width=\"2px\" d=\"M245,177.0 C245,89.5 395.0,89.5 395.0,177.0\" fill=\"none\" stroke=\"currentColor\"/>\n",
       "    <text dy=\"1.25em\" style=\"font-size: 0.8em; letter-spacing: 1px\">\n",
       "        <textPath xlink:href=\"#arrow-092b3c84b4c0420bab9a3329725683ce-0-1\" class=\"displacy-label\" startOffset=\"50%\" side=\"left\" fill=\"currentColor\" text-anchor=\"middle\">aux</textPath>\n",
       "    </text>\n",
       "    <path class=\"displacy-arrowhead\" d=\"M245,179.0 L237,167.0 253,167.0\" fill=\"currentColor\"/>\n",
       "</g>\n",
       "\n",
       "<g class=\"displacy-arrow\">\n",
       "    <path class=\"displacy-arc\" id=\"arrow-092b3c84b4c0420bab9a3329725683ce-0-2\" stroke-width=\"2px\" d=\"M420,177.0 C420,89.5 570.0,89.5 570.0,177.0\" fill=\"none\" stroke=\"currentColor\"/>\n",
       "    <text dy=\"1.25em\" style=\"font-size: 0.8em; letter-spacing: 1px\">\n",
       "        <textPath xlink:href=\"#arrow-092b3c84b4c0420bab9a3329725683ce-0-2\" class=\"displacy-label\" startOffset=\"50%\" side=\"left\" fill=\"currentColor\" text-anchor=\"middle\">prep</textPath>\n",
       "    </text>\n",
       "    <path class=\"displacy-arrowhead\" d=\"M570.0,179.0 L578.0,167.0 562.0,167.0\" fill=\"currentColor\"/>\n",
       "</g>\n",
       "\n",
       "<g class=\"displacy-arrow\">\n",
       "    <path class=\"displacy-arc\" id=\"arrow-092b3c84b4c0420bab9a3329725683ce-0-3\" stroke-width=\"2px\" d=\"M770,177.0 C770,89.5 920.0,89.5 920.0,177.0\" fill=\"none\" stroke=\"currentColor\"/>\n",
       "    <text dy=\"1.25em\" style=\"font-size: 0.8em; letter-spacing: 1px\">\n",
       "        <textPath xlink:href=\"#arrow-092b3c84b4c0420bab9a3329725683ce-0-3\" class=\"displacy-label\" startOffset=\"50%\" side=\"left\" fill=\"currentColor\" text-anchor=\"middle\">det</textPath>\n",
       "    </text>\n",
       "    <path class=\"displacy-arrowhead\" d=\"M770,179.0 L762,167.0 778,167.0\" fill=\"currentColor\"/>\n",
       "</g>\n",
       "\n",
       "<g class=\"displacy-arrow\">\n",
       "    <path class=\"displacy-arc\" id=\"arrow-092b3c84b4c0420bab9a3329725683ce-0-4\" stroke-width=\"2px\" d=\"M595,177.0 C595,2.0 925.0,2.0 925.0,177.0\" fill=\"none\" stroke=\"currentColor\"/>\n",
       "    <text dy=\"1.25em\" style=\"font-size: 0.8em; letter-spacing: 1px\">\n",
       "        <textPath xlink:href=\"#arrow-092b3c84b4c0420bab9a3329725683ce-0-4\" class=\"displacy-label\" startOffset=\"50%\" side=\"left\" fill=\"currentColor\" text-anchor=\"middle\">pobj</textPath>\n",
       "    </text>\n",
       "    <path class=\"displacy-arrowhead\" d=\"M925.0,179.0 L933.0,167.0 917.0,167.0\" fill=\"currentColor\"/>\n",
       "</g>\n",
       "\n",
       "<g class=\"displacy-arrow\">\n",
       "    <path class=\"displacy-arc\" id=\"arrow-092b3c84b4c0420bab9a3329725683ce-0-5\" stroke-width=\"2px\" d=\"M945,177.0 C945,89.5 1095.0,89.5 1095.0,177.0\" fill=\"none\" stroke=\"currentColor\"/>\n",
       "    <text dy=\"1.25em\" style=\"font-size: 0.8em; letter-spacing: 1px\">\n",
       "        <textPath xlink:href=\"#arrow-092b3c84b4c0420bab9a3329725683ce-0-5\" class=\"displacy-label\" startOffset=\"50%\" side=\"left\" fill=\"currentColor\" text-anchor=\"middle\">prep</textPath>\n",
       "    </text>\n",
       "    <path class=\"displacy-arrowhead\" d=\"M1095.0,179.0 L1103.0,167.0 1087.0,167.0\" fill=\"currentColor\"/>\n",
       "</g>\n",
       "\n",
       "<g class=\"displacy-arrow\">\n",
       "    <path class=\"displacy-arc\" id=\"arrow-092b3c84b4c0420bab9a3329725683ce-0-6\" stroke-width=\"2px\" d=\"M1120,177.0 C1120,89.5 1270.0,89.5 1270.0,177.0\" fill=\"none\" stroke=\"currentColor\"/>\n",
       "    <text dy=\"1.25em\" style=\"font-size: 0.8em; letter-spacing: 1px\">\n",
       "        <textPath xlink:href=\"#arrow-092b3c84b4c0420bab9a3329725683ce-0-6\" class=\"displacy-label\" startOffset=\"50%\" side=\"left\" fill=\"currentColor\" text-anchor=\"middle\">pobj</textPath>\n",
       "    </text>\n",
       "    <path class=\"displacy-arrowhead\" d=\"M1270.0,179.0 L1278.0,167.0 1262.0,167.0\" fill=\"currentColor\"/>\n",
       "</g>\n",
       "</svg></span>"
      ],
      "text/plain": [
       "<IPython.core.display.HTML object>"
      ]
     },
     "metadata": {},
     "output_type": "display_data"
    }
   ],
   "source": [
    "from spacy import displacy \n",
    "\n",
    "displacy.render(doc)"
   ]
  },
  {
   "cell_type": "markdown",
   "id": "e12f80bd-ec71-43a9-82be-eaafebd742de",
   "metadata": {},
   "source": [
    "## Using dependency relations for intent recognition\n",
    "\n",
    "After extracting the entities, we want to find out what sort of intent the user\n",
    "carries – to book a flight, to purchase a meal on their already booked flight,\n",
    "cancel their flight, and so on. If you look at the intents list again, you will see\n",
    "that every intent includes a verb (to book) and an object that the verb acts on\n",
    "(flight, hotel, meal).\n",
    "\n",
    "Here all the sentences having **transitive verbs** and **direct/indirect objects**\n",
    "\n",
    "### Transitive verbs and Direct/inDirect obJects \n",
    "\n",
    "#### Transitive / In Transitive Verbs\n",
    "\n",
    "A **verb** is a very important component of the sentence as it indicates the **action** in the sentence. The **object** of the sentence is the **thing/person** that is affected by the action of the verb.\n",
    "\n",
    "A **transitive verb** is a verb that needs an **object** to **act upon**.\n",
    "\n",
    "```Text \n",
    "Examples: \n",
    "\n",
    "I bought flowers.\n",
    "He loved his cat.\n",
    "He borrowed my book.\n",
    "```\n",
    "\n",
    "In these example sentences, **bought**, **loved**, and **borrowed** are **transitive\n",
    "verbs**. In the first sentence, **bought** is the **transitive verb** and **flowers** is its\n",
    "object, the thing that has been bought by the sentence subject, I. Loved – his\n",
    "cat and borrowed – my book are transitive verb-object examples.\n",
    "\n",
    "Let's look on first sentence what if don't have a **object** followed by the **verb**. \n",
    "```Text \n",
    "I bought\n",
    "```\n",
    "This is **In-Transitive** verb. \n",
    "\n",
    "Bought what? Without an object, this sentence doesn't carry any meaning at\n",
    "all. In the preceding sentences, each of the objects completes the meaning of\n",
    "the verb. This is a way of understanding whether a verb is transitive or not –\n",
    "erase the object and check whether the sentence remains semantically intact.\n",
    "\n",
    "Some verbs are transitive and some verbs are intransitive. An intransitive\n",
    "verb is the opposite of a transitive verb; it doesn't need an object to act upon.\n",
    "\n",
    "\n",
    "```Text\n",
    "Yesterday I slept for 8 hours.\n",
    "The cat ran towards me.\n",
    "When I went out, the sun was shining.\n",
    "Her cat died 3 days ago.\n",
    "```\n",
    "\n",
    "In all the preceding sentences, the verbs make sense without an object. If we\n",
    "erase all the words other than the subject and object, these sentences are still\n",
    "meaningful:\n",
    "\n",
    "```Text\n",
    "I slept.\n",
    "The cat ran.\n",
    "The sun was shining.\n",
    "Her cat died.\n",
    "\n",
    "```"
   ]
  },
  {
   "cell_type": "markdown",
   "id": "bf2e950b-be4c-4951-ba66-5d24bbeefeb7",
   "metadata": {},
   "source": [
    "#### Direct / In-Direct Objects \n",
    "\n",
    "As we remarked before, the object is the thing/person that is affected by the verb's action. A sentence can be direct or in direct. \n",
    "\n",
    "##### Direct objects \n",
    "A Direct objects questions are whom? / what?, You can ask the direct object by asking the subject verb what/ who? \n",
    "\n",
    "```\n",
    "I bought flowers. I bought what? - flowers\n",
    "He loved his cat. He loved who? - his cat\n",
    "He borrowed my book. He borrowed what? - my book\n",
    "```\n",
    "\n",
    "##### In-Direct Objects \n",
    "An indirect object answers the questions for what?/for whom?/to whom?.\n",
    "\n",
    "```\n",
    "Let's see some examples:\n",
    "He gave me his book. He gave his book to whom? - me\n",
    "He gave his book to me. He gave his book to whom? -me\n",
    "```\n",
    "\n",
    "It comes with the pre-position like to, for, from, and so on.  As you can see from these examples, an indirect object is also an object\n",
    "and is affected by the verb's action, but its role in the sentence is a bit\n",
    "different. An indirect object is sometimes viewed as the recipient of the\n",
    "direct object\n",
    "\n",
    "If you want to look more on this **sentence syntax topic**, you can [**refer**](https://www.amazon.in/Linguistic-Fundamentals-Natural-Language-Processing/dp/1681736713/ref=sr_1_1_sspa?crid=3PM0YPXKV4GE7&keywords=linguistic+fundamentals&qid=1649378998&sprefix=linguistic+fundamental%2Caps%2C240&sr=8-1-spons&psc=1&spLa=ZW5jcnlwdGVkUXVhbGlmaWVyPUFCNFFQRUtVWVFSSksmZW5jcnlwdGVkSWQ9QTA3NzYyOTExUjM0NkpVT0FMQkpSJmVuY3J5cHRlZEFkSWQ9QTA5MjgzOTIyQzRXTFZONzhSQjlCJndpZGdldE5hbWU9c3BfYXRmJmFjdGlvbj1jbGlja1JlZGlyZWN0JmRvTm90TG9nQ2xpY2s9dHJ1ZQ==) this to get good knowledge. "
   ]
  },
  {
   "cell_type": "markdown",
   "id": "68a8f25b-8abd-4320-b266-2f4208e5fbde",
   "metadata": {},
   "source": [
    "##### Single Indent Recogonition"
   ]
  },
  {
   "cell_type": "code",
   "execution_count": 40,
   "id": "0033f988-8457-4d2f-b71f-01bd0ea33b50",
   "metadata": {},
   "outputs": [
    {
     "data": {
      "text/html": [
       "<span class=\"tex2jax_ignore\"><svg xmlns=\"http://www.w3.org/2000/svg\" xmlns:xlink=\"http://www.w3.org/1999/xlink\" xml:lang=\"en\" id=\"c980a47172ee498b829b82dd34fc24f8-0\" class=\"displacy\" width=\"1100\" height=\"312.0\" direction=\"ltr\" style=\"max-width: none; height: 312.0px; color: #000000; background: #ffffff; font-family: Arial; direction: ltr\">\n",
       "<text class=\"displacy-token\" fill=\"currentColor\" text-anchor=\"middle\" y=\"222.0\">\n",
       "    <tspan class=\"displacy-word\" fill=\"currentColor\" x=\"50\">find</tspan>\n",
       "    <tspan class=\"displacy-tag\" dy=\"2em\" fill=\"currentColor\" x=\"50\">VERB</tspan>\n",
       "</text>\n",
       "\n",
       "<text class=\"displacy-token\" fill=\"currentColor\" text-anchor=\"middle\" y=\"222.0\">\n",
       "    <tspan class=\"displacy-word\" fill=\"currentColor\" x=\"225\">aflight</tspan>\n",
       "    <tspan class=\"displacy-tag\" dy=\"2em\" fill=\"currentColor\" x=\"225\">NOUN</tspan>\n",
       "</text>\n",
       "\n",
       "<text class=\"displacy-token\" fill=\"currentColor\" text-anchor=\"middle\" y=\"222.0\">\n",
       "    <tspan class=\"displacy-word\" fill=\"currentColor\" x=\"400\">from</tspan>\n",
       "    <tspan class=\"displacy-tag\" dy=\"2em\" fill=\"currentColor\" x=\"400\">ADP</tspan>\n",
       "</text>\n",
       "\n",
       "<text class=\"displacy-token\" fill=\"currentColor\" text-anchor=\"middle\" y=\"222.0\">\n",
       "    <tspan class=\"displacy-word\" fill=\"currentColor\" x=\"575\">washington</tspan>\n",
       "    <tspan class=\"displacy-tag\" dy=\"2em\" fill=\"currentColor\" x=\"575\">PROPN</tspan>\n",
       "</text>\n",
       "\n",
       "<text class=\"displacy-token\" fill=\"currentColor\" text-anchor=\"middle\" y=\"222.0\">\n",
       "    <tspan class=\"displacy-word\" fill=\"currentColor\" x=\"750\">to</tspan>\n",
       "    <tspan class=\"displacy-tag\" dy=\"2em\" fill=\"currentColor\" x=\"750\">ADP</tspan>\n",
       "</text>\n",
       "\n",
       "<text class=\"displacy-token\" fill=\"currentColor\" text-anchor=\"middle\" y=\"222.0\">\n",
       "    <tspan class=\"displacy-word\" fill=\"currentColor\" x=\"925\">sf</tspan>\n",
       "    <tspan class=\"displacy-tag\" dy=\"2em\" fill=\"currentColor\" x=\"925\">PROPN</tspan>\n",
       "</text>\n",
       "\n",
       "<g class=\"displacy-arrow\">\n",
       "    <path class=\"displacy-arc\" id=\"arrow-c980a47172ee498b829b82dd34fc24f8-0-0\" stroke-width=\"2px\" d=\"M70,177.0 C70,89.5 220.0,89.5 220.0,177.0\" fill=\"none\" stroke=\"currentColor\"/>\n",
       "    <text dy=\"1.25em\" style=\"font-size: 0.8em; letter-spacing: 1px\">\n",
       "        <textPath xlink:href=\"#arrow-c980a47172ee498b829b82dd34fc24f8-0-0\" class=\"displacy-label\" startOffset=\"50%\" side=\"left\" fill=\"currentColor\" text-anchor=\"middle\">dobj</textPath>\n",
       "    </text>\n",
       "    <path class=\"displacy-arrowhead\" d=\"M220.0,179.0 L228.0,167.0 212.0,167.0\" fill=\"currentColor\"/>\n",
       "</g>\n",
       "\n",
       "<g class=\"displacy-arrow\">\n",
       "    <path class=\"displacy-arc\" id=\"arrow-c980a47172ee498b829b82dd34fc24f8-0-1\" stroke-width=\"2px\" d=\"M245,177.0 C245,89.5 395.0,89.5 395.0,177.0\" fill=\"none\" stroke=\"currentColor\"/>\n",
       "    <text dy=\"1.25em\" style=\"font-size: 0.8em; letter-spacing: 1px\">\n",
       "        <textPath xlink:href=\"#arrow-c980a47172ee498b829b82dd34fc24f8-0-1\" class=\"displacy-label\" startOffset=\"50%\" side=\"left\" fill=\"currentColor\" text-anchor=\"middle\">prep</textPath>\n",
       "    </text>\n",
       "    <path class=\"displacy-arrowhead\" d=\"M395.0,179.0 L403.0,167.0 387.0,167.0\" fill=\"currentColor\"/>\n",
       "</g>\n",
       "\n",
       "<g class=\"displacy-arrow\">\n",
       "    <path class=\"displacy-arc\" id=\"arrow-c980a47172ee498b829b82dd34fc24f8-0-2\" stroke-width=\"2px\" d=\"M420,177.0 C420,89.5 570.0,89.5 570.0,177.0\" fill=\"none\" stroke=\"currentColor\"/>\n",
       "    <text dy=\"1.25em\" style=\"font-size: 0.8em; letter-spacing: 1px\">\n",
       "        <textPath xlink:href=\"#arrow-c980a47172ee498b829b82dd34fc24f8-0-2\" class=\"displacy-label\" startOffset=\"50%\" side=\"left\" fill=\"currentColor\" text-anchor=\"middle\">pobj</textPath>\n",
       "    </text>\n",
       "    <path class=\"displacy-arrowhead\" d=\"M570.0,179.0 L578.0,167.0 562.0,167.0\" fill=\"currentColor\"/>\n",
       "</g>\n",
       "\n",
       "<g class=\"displacy-arrow\">\n",
       "    <path class=\"displacy-arc\" id=\"arrow-c980a47172ee498b829b82dd34fc24f8-0-3\" stroke-width=\"2px\" d=\"M70,177.0 C70,2.0 750.0,2.0 750.0,177.0\" fill=\"none\" stroke=\"currentColor\"/>\n",
       "    <text dy=\"1.25em\" style=\"font-size: 0.8em; letter-spacing: 1px\">\n",
       "        <textPath xlink:href=\"#arrow-c980a47172ee498b829b82dd34fc24f8-0-3\" class=\"displacy-label\" startOffset=\"50%\" side=\"left\" fill=\"currentColor\" text-anchor=\"middle\">prep</textPath>\n",
       "    </text>\n",
       "    <path class=\"displacy-arrowhead\" d=\"M750.0,179.0 L758.0,167.0 742.0,167.0\" fill=\"currentColor\"/>\n",
       "</g>\n",
       "\n",
       "<g class=\"displacy-arrow\">\n",
       "    <path class=\"displacy-arc\" id=\"arrow-c980a47172ee498b829b82dd34fc24f8-0-4\" stroke-width=\"2px\" d=\"M770,177.0 C770,89.5 920.0,89.5 920.0,177.0\" fill=\"none\" stroke=\"currentColor\"/>\n",
       "    <text dy=\"1.25em\" style=\"font-size: 0.8em; letter-spacing: 1px\">\n",
       "        <textPath xlink:href=\"#arrow-c980a47172ee498b829b82dd34fc24f8-0-4\" class=\"displacy-label\" startOffset=\"50%\" side=\"left\" fill=\"currentColor\" text-anchor=\"middle\">pobj</textPath>\n",
       "    </text>\n",
       "    <path class=\"displacy-arrowhead\" d=\"M920.0,179.0 L928.0,167.0 912.0,167.0\" fill=\"currentColor\"/>\n",
       "</g>\n",
       "</svg></span>"
      ],
      "text/plain": [
       "<IPython.core.display.HTML object>"
      ]
     },
     "metadata": {},
     "output_type": "display_data"
    }
   ],
   "source": [
    "doc = nlp(\"find aflight from washington to sf\")\n",
    "\n",
    "displacy.render(doc)"
   ]
  },
  {
   "cell_type": "markdown",
   "id": "5022079e-c45a-45ab-88e1-6c478306d205",
   "metadata": {},
   "source": [
    "In this example sentence, the transitive verb is find and the direct object is a\n",
    "flight. The relation dobj connects a transitive verb to its direct object. If we\n",
    "follow the arc, semantically, we see that the user wants to commit the action\n",
    "of finding and the object they want to find is a flight. We can merge find and\n",
    "a flight into a single word, findAflight or findFlight, which can be this\n",
    "intent's name. Other intents can be bookFlight, cancelFlight, bookMeal, and\n",
    "so on.\n",
    "\n",
    "Let's extract the verb and the direct object in a more systematic way. We'll\n",
    "first spot the direct object by looking for the dobj label in the sentence. To\n",
    "locate the transitive verb, we look at the direct object's syntactic head. A\n",
    "sentence can include more than one verb, hence we're careful while\n",
    "processing the verbs. Here is the code:"
   ]
  },
  {
   "cell_type": "code",
   "execution_count": 24,
   "id": "f3f973a4-5d76-42bb-bfaf-cc2418fc063f",
   "metadata": {},
   "outputs": [
    {
     "name": "stdout",
     "output_type": "stream",
     "text": [
      "findFlight\n",
      "----\n"
     ]
    }
   ],
   "source": [
    "doc = nlp(\"find a flight from washington to sf\") \n",
    "\n",
    "for token in doc:\n",
    "    if token.dep_ == 'dobj': \n",
    "        print(token.head.text + token.text.capitalize())\n",
    "        print('----')"
   ]
  },
  {
   "cell_type": "code",
   "execution_count": 36,
   "id": "1aa8b7a1-ea07-45de-829c-9a538fdb9bd8",
   "metadata": {},
   "outputs": [
    {
     "data": {
      "text/plain": [
       "'dobj'"
      ]
     },
     "execution_count": 36,
     "metadata": {},
     "output_type": "execute_result"
    }
   ],
   "source": [
    "doc[2].dep_"
   ]
  },
  {
   "cell_type": "code",
   "execution_count": 37,
   "id": "2a8bc451-66ac-4945-a713-6cb56989438c",
   "metadata": {},
   "outputs": [
    {
     "data": {
      "text/plain": [
       "find"
      ]
     },
     "execution_count": 37,
     "metadata": {},
     "output_type": "execute_result"
    }
   ],
   "source": [
    "doc[2].head"
   ]
  },
  {
   "cell_type": "code",
   "execution_count": 38,
   "id": "9d23fb30-9427-4bd2-8c07-9352440d87d7",
   "metadata": {},
   "outputs": [
    {
     "data": {
      "text/plain": [
       "'flight'"
      ]
     },
     "execution_count": 38,
     "metadata": {},
     "output_type": "execute_result"
    }
   ],
   "source": [
    "doc[2].text"
   ]
  },
  {
   "cell_type": "markdown",
   "id": "2f68230c-eab8-4ae1-b721-9f51f8d278b8",
   "metadata": {},
   "source": [
    "##### Multiple Indent recogonition"
   ]
  },
  {
   "cell_type": "code",
   "execution_count": 41,
   "id": "6d019b05-9184-402a-bba5-051dd937ec85",
   "metadata": {},
   "outputs": [
    {
     "data": {
      "text/html": [
       "<span class=\"tex2jax_ignore\"><svg xmlns=\"http://www.w3.org/2000/svg\" xmlns:xlink=\"http://www.w3.org/1999/xlink\" xml:lang=\"en\" id=\"6ee9d9fb16fb44af9fdd46011fffa559-0\" class=\"displacy\" width=\"1800\" height=\"487.0\" direction=\"ltr\" style=\"max-width: none; height: 487.0px; color: #000000; background: #ffffff; font-family: Arial; direction: ltr\">\n",
       "<text class=\"displacy-token\" fill=\"currentColor\" text-anchor=\"middle\" y=\"397.0\">\n",
       "    <tspan class=\"displacy-word\" fill=\"currentColor\" x=\"50\">show</tspan>\n",
       "    <tspan class=\"displacy-tag\" dy=\"2em\" fill=\"currentColor\" x=\"50\">VERB</tspan>\n",
       "</text>\n",
       "\n",
       "<text class=\"displacy-token\" fill=\"currentColor\" text-anchor=\"middle\" y=\"397.0\">\n",
       "    <tspan class=\"displacy-word\" fill=\"currentColor\" x=\"225\">all</tspan>\n",
       "    <tspan class=\"displacy-tag\" dy=\"2em\" fill=\"currentColor\" x=\"225\">DET</tspan>\n",
       "</text>\n",
       "\n",
       "<text class=\"displacy-token\" fill=\"currentColor\" text-anchor=\"middle\" y=\"397.0\">\n",
       "    <tspan class=\"displacy-word\" fill=\"currentColor\" x=\"400\">flights</tspan>\n",
       "    <tspan class=\"displacy-tag\" dy=\"2em\" fill=\"currentColor\" x=\"400\">NOUN</tspan>\n",
       "</text>\n",
       "\n",
       "<text class=\"displacy-token\" fill=\"currentColor\" text-anchor=\"middle\" y=\"397.0\">\n",
       "    <tspan class=\"displacy-word\" fill=\"currentColor\" x=\"575\">and</tspan>\n",
       "    <tspan class=\"displacy-tag\" dy=\"2em\" fill=\"currentColor\" x=\"575\">CCONJ</tspan>\n",
       "</text>\n",
       "\n",
       "<text class=\"displacy-token\" fill=\"currentColor\" text-anchor=\"middle\" y=\"397.0\">\n",
       "    <tspan class=\"displacy-word\" fill=\"currentColor\" x=\"750\">fares</tspan>\n",
       "    <tspan class=\"displacy-tag\" dy=\"2em\" fill=\"currentColor\" x=\"750\">NOUN</tspan>\n",
       "</text>\n",
       "\n",
       "<text class=\"displacy-token\" fill=\"currentColor\" text-anchor=\"middle\" y=\"397.0\">\n",
       "    <tspan class=\"displacy-word\" fill=\"currentColor\" x=\"925\">from</tspan>\n",
       "    <tspan class=\"displacy-tag\" dy=\"2em\" fill=\"currentColor\" x=\"925\">ADP</tspan>\n",
       "</text>\n",
       "\n",
       "<text class=\"displacy-token\" fill=\"currentColor\" text-anchor=\"middle\" y=\"397.0\">\n",
       "    <tspan class=\"displacy-word\" fill=\"currentColor\" x=\"1100\">denver</tspan>\n",
       "    <tspan class=\"displacy-tag\" dy=\"2em\" fill=\"currentColor\" x=\"1100\">PROPN</tspan>\n",
       "</text>\n",
       "\n",
       "<text class=\"displacy-token\" fill=\"currentColor\" text-anchor=\"middle\" y=\"397.0\">\n",
       "    <tspan class=\"displacy-word\" fill=\"currentColor\" x=\"1275\">to</tspan>\n",
       "    <tspan class=\"displacy-tag\" dy=\"2em\" fill=\"currentColor\" x=\"1275\">ADP</tspan>\n",
       "</text>\n",
       "\n",
       "<text class=\"displacy-token\" fill=\"currentColor\" text-anchor=\"middle\" y=\"397.0\">\n",
       "    <tspan class=\"displacy-word\" fill=\"currentColor\" x=\"1450\">san</tspan>\n",
       "    <tspan class=\"displacy-tag\" dy=\"2em\" fill=\"currentColor\" x=\"1450\">PROPN</tspan>\n",
       "</text>\n",
       "\n",
       "<text class=\"displacy-token\" fill=\"currentColor\" text-anchor=\"middle\" y=\"397.0\">\n",
       "    <tspan class=\"displacy-word\" fill=\"currentColor\" x=\"1625\">francisco</tspan>\n",
       "    <tspan class=\"displacy-tag\" dy=\"2em\" fill=\"currentColor\" x=\"1625\">PROPN</tspan>\n",
       "</text>\n",
       "\n",
       "<g class=\"displacy-arrow\">\n",
       "    <path class=\"displacy-arc\" id=\"arrow-6ee9d9fb16fb44af9fdd46011fffa559-0-0\" stroke-width=\"2px\" d=\"M245,352.0 C245,264.5 385.0,264.5 385.0,352.0\" fill=\"none\" stroke=\"currentColor\"/>\n",
       "    <text dy=\"1.25em\" style=\"font-size: 0.8em; letter-spacing: 1px\">\n",
       "        <textPath xlink:href=\"#arrow-6ee9d9fb16fb44af9fdd46011fffa559-0-0\" class=\"displacy-label\" startOffset=\"50%\" side=\"left\" fill=\"currentColor\" text-anchor=\"middle\">det</textPath>\n",
       "    </text>\n",
       "    <path class=\"displacy-arrowhead\" d=\"M245,354.0 L237,342.0 253,342.0\" fill=\"currentColor\"/>\n",
       "</g>\n",
       "\n",
       "<g class=\"displacy-arrow\">\n",
       "    <path class=\"displacy-arc\" id=\"arrow-6ee9d9fb16fb44af9fdd46011fffa559-0-1\" stroke-width=\"2px\" d=\"M70,352.0 C70,177.0 390.0,177.0 390.0,352.0\" fill=\"none\" stroke=\"currentColor\"/>\n",
       "    <text dy=\"1.25em\" style=\"font-size: 0.8em; letter-spacing: 1px\">\n",
       "        <textPath xlink:href=\"#arrow-6ee9d9fb16fb44af9fdd46011fffa559-0-1\" class=\"displacy-label\" startOffset=\"50%\" side=\"left\" fill=\"currentColor\" text-anchor=\"middle\">dobj</textPath>\n",
       "    </text>\n",
       "    <path class=\"displacy-arrowhead\" d=\"M390.0,354.0 L398.0,342.0 382.0,342.0\" fill=\"currentColor\"/>\n",
       "</g>\n",
       "\n",
       "<g class=\"displacy-arrow\">\n",
       "    <path class=\"displacy-arc\" id=\"arrow-6ee9d9fb16fb44af9fdd46011fffa559-0-2\" stroke-width=\"2px\" d=\"M420,352.0 C420,264.5 560.0,264.5 560.0,352.0\" fill=\"none\" stroke=\"currentColor\"/>\n",
       "    <text dy=\"1.25em\" style=\"font-size: 0.8em; letter-spacing: 1px\">\n",
       "        <textPath xlink:href=\"#arrow-6ee9d9fb16fb44af9fdd46011fffa559-0-2\" class=\"displacy-label\" startOffset=\"50%\" side=\"left\" fill=\"currentColor\" text-anchor=\"middle\">cc</textPath>\n",
       "    </text>\n",
       "    <path class=\"displacy-arrowhead\" d=\"M560.0,354.0 L568.0,342.0 552.0,342.0\" fill=\"currentColor\"/>\n",
       "</g>\n",
       "\n",
       "<g class=\"displacy-arrow\">\n",
       "    <path class=\"displacy-arc\" id=\"arrow-6ee9d9fb16fb44af9fdd46011fffa559-0-3\" stroke-width=\"2px\" d=\"M420,352.0 C420,177.0 740.0,177.0 740.0,352.0\" fill=\"none\" stroke=\"currentColor\"/>\n",
       "    <text dy=\"1.25em\" style=\"font-size: 0.8em; letter-spacing: 1px\">\n",
       "        <textPath xlink:href=\"#arrow-6ee9d9fb16fb44af9fdd46011fffa559-0-3\" class=\"displacy-label\" startOffset=\"50%\" side=\"left\" fill=\"currentColor\" text-anchor=\"middle\">conj</textPath>\n",
       "    </text>\n",
       "    <path class=\"displacy-arrowhead\" d=\"M740.0,354.0 L748.0,342.0 732.0,342.0\" fill=\"currentColor\"/>\n",
       "</g>\n",
       "\n",
       "<g class=\"displacy-arrow\">\n",
       "    <path class=\"displacy-arc\" id=\"arrow-6ee9d9fb16fb44af9fdd46011fffa559-0-4\" stroke-width=\"2px\" d=\"M420,352.0 C420,89.5 920.0,89.5 920.0,352.0\" fill=\"none\" stroke=\"currentColor\"/>\n",
       "    <text dy=\"1.25em\" style=\"font-size: 0.8em; letter-spacing: 1px\">\n",
       "        <textPath xlink:href=\"#arrow-6ee9d9fb16fb44af9fdd46011fffa559-0-4\" class=\"displacy-label\" startOffset=\"50%\" side=\"left\" fill=\"currentColor\" text-anchor=\"middle\">prep</textPath>\n",
       "    </text>\n",
       "    <path class=\"displacy-arrowhead\" d=\"M920.0,354.0 L928.0,342.0 912.0,342.0\" fill=\"currentColor\"/>\n",
       "</g>\n",
       "\n",
       "<g class=\"displacy-arrow\">\n",
       "    <path class=\"displacy-arc\" id=\"arrow-6ee9d9fb16fb44af9fdd46011fffa559-0-5\" stroke-width=\"2px\" d=\"M945,352.0 C945,264.5 1085.0,264.5 1085.0,352.0\" fill=\"none\" stroke=\"currentColor\"/>\n",
       "    <text dy=\"1.25em\" style=\"font-size: 0.8em; letter-spacing: 1px\">\n",
       "        <textPath xlink:href=\"#arrow-6ee9d9fb16fb44af9fdd46011fffa559-0-5\" class=\"displacy-label\" startOffset=\"50%\" side=\"left\" fill=\"currentColor\" text-anchor=\"middle\">pobj</textPath>\n",
       "    </text>\n",
       "    <path class=\"displacy-arrowhead\" d=\"M1085.0,354.0 L1093.0,342.0 1077.0,342.0\" fill=\"currentColor\"/>\n",
       "</g>\n",
       "\n",
       "<g class=\"displacy-arrow\">\n",
       "    <path class=\"displacy-arc\" id=\"arrow-6ee9d9fb16fb44af9fdd46011fffa559-0-6\" stroke-width=\"2px\" d=\"M420,352.0 C420,2.0 1275.0,2.0 1275.0,352.0\" fill=\"none\" stroke=\"currentColor\"/>\n",
       "    <text dy=\"1.25em\" style=\"font-size: 0.8em; letter-spacing: 1px\">\n",
       "        <textPath xlink:href=\"#arrow-6ee9d9fb16fb44af9fdd46011fffa559-0-6\" class=\"displacy-label\" startOffset=\"50%\" side=\"left\" fill=\"currentColor\" text-anchor=\"middle\">prep</textPath>\n",
       "    </text>\n",
       "    <path class=\"displacy-arrowhead\" d=\"M1275.0,354.0 L1283.0,342.0 1267.0,342.0\" fill=\"currentColor\"/>\n",
       "</g>\n",
       "\n",
       "<g class=\"displacy-arrow\">\n",
       "    <path class=\"displacy-arc\" id=\"arrow-6ee9d9fb16fb44af9fdd46011fffa559-0-7\" stroke-width=\"2px\" d=\"M1470,352.0 C1470,264.5 1610.0,264.5 1610.0,352.0\" fill=\"none\" stroke=\"currentColor\"/>\n",
       "    <text dy=\"1.25em\" style=\"font-size: 0.8em; letter-spacing: 1px\">\n",
       "        <textPath xlink:href=\"#arrow-6ee9d9fb16fb44af9fdd46011fffa559-0-7\" class=\"displacy-label\" startOffset=\"50%\" side=\"left\" fill=\"currentColor\" text-anchor=\"middle\">compound</textPath>\n",
       "    </text>\n",
       "    <path class=\"displacy-arrowhead\" d=\"M1470,354.0 L1462,342.0 1478,342.0\" fill=\"currentColor\"/>\n",
       "</g>\n",
       "\n",
       "<g class=\"displacy-arrow\">\n",
       "    <path class=\"displacy-arc\" id=\"arrow-6ee9d9fb16fb44af9fdd46011fffa559-0-8\" stroke-width=\"2px\" d=\"M1295,352.0 C1295,177.0 1615.0,177.0 1615.0,352.0\" fill=\"none\" stroke=\"currentColor\"/>\n",
       "    <text dy=\"1.25em\" style=\"font-size: 0.8em; letter-spacing: 1px\">\n",
       "        <textPath xlink:href=\"#arrow-6ee9d9fb16fb44af9fdd46011fffa559-0-8\" class=\"displacy-label\" startOffset=\"50%\" side=\"left\" fill=\"currentColor\" text-anchor=\"middle\">pobj</textPath>\n",
       "    </text>\n",
       "    <path class=\"displacy-arrowhead\" d=\"M1615.0,354.0 L1623.0,342.0 1607.0,342.0\" fill=\"currentColor\"/>\n",
       "</g>\n",
       "</svg></span>"
      ],
      "text/plain": [
       "<IPython.core.display.HTML object>"
      ]
     },
     "metadata": {},
     "output_type": "display_data"
    }
   ],
   "source": [
    "displacy.render(nlp(\"show all flights and fares from denver to san francisco\"))"
   ]
  },
  {
   "cell_type": "markdown",
   "id": "29a18b33-842c-468f-9acf-f389cdbf42e9",
   "metadata": {},
   "source": [
    "In the preceding diagram, we see that the dobj arc connects show and flights.\n",
    "The conj arc connects flights and fares to indicate the conjunction relation\n",
    "between them. The conjunction relation is built by a conjunction such as and\n",
    "or or and indicates that a noun is joined to another noun by this conjunction.\n",
    "In this situation, we extract the direct object and its conjuncts. Let's now see\n",
    "how we can turn this process into code:\n"
   ]
  },
  {
   "cell_type": "code",
   "execution_count": 52,
   "id": "7543973a-1c4d-4fc7-9489-3ed0041465f4",
   "metadata": {},
   "outputs": [
    {
     "name": "stdout",
     "output_type": "stream",
     "text": [
      "show flights ['fares']\n"
     ]
    }
   ],
   "source": [
    "doc = nlp(\"show all flights and fares from denver to san francisco\")\n",
    "\n",
    "for token in doc: \n",
    "    if token.dep_ == 'dobj': \n",
    "        dobj = token.text \n",
    "        conj = [t.text for t in token.conjuncts] \n",
    "        verb = token.head \n",
    "print(verb, dobj, conj)"
   ]
  },
  {
   "cell_type": "markdown",
   "id": "cbf10546-2f93-48f8-bae5-d1b1a0ded29b",
   "metadata": {},
   "source": [
    "### Recognizing the intent using wordlists\n"
   ]
  },
  {
   "cell_type": "markdown",
   "id": "72bbfb03-7ac1-4038-8e4a-f8d55b213c98",
   "metadata": {},
   "source": [
    "In some cases, tokens other than the transitive verb and the direct object\n",
    "contain the semantics of the user intent. In that case, you need to go further\n",
    "down in the syntactic relations and explore the sentence structure deeper.\n",
    "\n",
    "$$\\heartsuit$$\n",
    "\n",
    "```\n",
    "Example: \n",
    "i want to make a reservation for a fligh\n",
    "```"
   ]
  },
  {
   "cell_type": "code",
   "execution_count": 81,
   "id": "edd038f0-0ace-41c5-9c90-f38a771197fc",
   "metadata": {},
   "outputs": [
    {
     "data": {
      "text/html": [
       "<span class=\"tex2jax_ignore\"><svg xmlns=\"http://www.w3.org/2000/svg\" xmlns:xlink=\"http://www.w3.org/1999/xlink\" xml:lang=\"en\" id=\"e5a59cfa0dcb486480eae4bf9a9fc3fd-0\" class=\"displacy\" width=\"1275\" height=\"312.0\" direction=\"ltr\" style=\"max-width: none; height: 312.0px; color: #000000; background: #ffffff; font-family: Arial; direction: ltr\">\n",
       "<text class=\"displacy-token\" fill=\"currentColor\" text-anchor=\"middle\" y=\"222.0\">\n",
       "    <tspan class=\"displacy-word\" fill=\"currentColor\" x=\"50\">i</tspan>\n",
       "    <tspan class=\"displacy-tag\" dy=\"2em\" fill=\"currentColor\" x=\"50\">PRON</tspan>\n",
       "</text>\n",
       "\n",
       "<text class=\"displacy-token\" fill=\"currentColor\" text-anchor=\"middle\" y=\"222.0\">\n",
       "    <tspan class=\"displacy-word\" fill=\"currentColor\" x=\"225\">want</tspan>\n",
       "    <tspan class=\"displacy-tag\" dy=\"2em\" fill=\"currentColor\" x=\"225\">VERB</tspan>\n",
       "</text>\n",
       "\n",
       "<text class=\"displacy-token\" fill=\"currentColor\" text-anchor=\"middle\" y=\"222.0\">\n",
       "    <tspan class=\"displacy-word\" fill=\"currentColor\" x=\"400\">to</tspan>\n",
       "    <tspan class=\"displacy-tag\" dy=\"2em\" fill=\"currentColor\" x=\"400\">PART</tspan>\n",
       "</text>\n",
       "\n",
       "<text class=\"displacy-token\" fill=\"currentColor\" text-anchor=\"middle\" y=\"222.0\">\n",
       "    <tspan class=\"displacy-word\" fill=\"currentColor\" x=\"575\">make</tspan>\n",
       "    <tspan class=\"displacy-tag\" dy=\"2em\" fill=\"currentColor\" x=\"575\">VERB</tspan>\n",
       "</text>\n",
       "\n",
       "<text class=\"displacy-token\" fill=\"currentColor\" text-anchor=\"middle\" y=\"222.0\">\n",
       "    <tspan class=\"displacy-word\" fill=\"currentColor\" x=\"750\">areservation</tspan>\n",
       "    <tspan class=\"displacy-tag\" dy=\"2em\" fill=\"currentColor\" x=\"750\">NOUN</tspan>\n",
       "</text>\n",
       "\n",
       "<text class=\"displacy-token\" fill=\"currentColor\" text-anchor=\"middle\" y=\"222.0\">\n",
       "    <tspan class=\"displacy-word\" fill=\"currentColor\" x=\"925\">for</tspan>\n",
       "    <tspan class=\"displacy-tag\" dy=\"2em\" fill=\"currentColor\" x=\"925\">ADP</tspan>\n",
       "</text>\n",
       "\n",
       "<text class=\"displacy-token\" fill=\"currentColor\" text-anchor=\"middle\" y=\"222.0\">\n",
       "    <tspan class=\"displacy-word\" fill=\"currentColor\" x=\"1100\">afligt</tspan>\n",
       "    <tspan class=\"displacy-tag\" dy=\"2em\" fill=\"currentColor\" x=\"1100\">NOUN</tspan>\n",
       "</text>\n",
       "\n",
       "<g class=\"displacy-arrow\">\n",
       "    <path class=\"displacy-arc\" id=\"arrow-e5a59cfa0dcb486480eae4bf9a9fc3fd-0-0\" stroke-width=\"2px\" d=\"M70,177.0 C70,89.5 220.0,89.5 220.0,177.0\" fill=\"none\" stroke=\"currentColor\"/>\n",
       "    <text dy=\"1.25em\" style=\"font-size: 0.8em; letter-spacing: 1px\">\n",
       "        <textPath xlink:href=\"#arrow-e5a59cfa0dcb486480eae4bf9a9fc3fd-0-0\" class=\"displacy-label\" startOffset=\"50%\" side=\"left\" fill=\"currentColor\" text-anchor=\"middle\">nsubj</textPath>\n",
       "    </text>\n",
       "    <path class=\"displacy-arrowhead\" d=\"M70,179.0 L62,167.0 78,167.0\" fill=\"currentColor\"/>\n",
       "</g>\n",
       "\n",
       "<g class=\"displacy-arrow\">\n",
       "    <path class=\"displacy-arc\" id=\"arrow-e5a59cfa0dcb486480eae4bf9a9fc3fd-0-1\" stroke-width=\"2px\" d=\"M420,177.0 C420,89.5 570.0,89.5 570.0,177.0\" fill=\"none\" stroke=\"currentColor\"/>\n",
       "    <text dy=\"1.25em\" style=\"font-size: 0.8em; letter-spacing: 1px\">\n",
       "        <textPath xlink:href=\"#arrow-e5a59cfa0dcb486480eae4bf9a9fc3fd-0-1\" class=\"displacy-label\" startOffset=\"50%\" side=\"left\" fill=\"currentColor\" text-anchor=\"middle\">aux</textPath>\n",
       "    </text>\n",
       "    <path class=\"displacy-arrowhead\" d=\"M420,179.0 L412,167.0 428,167.0\" fill=\"currentColor\"/>\n",
       "</g>\n",
       "\n",
       "<g class=\"displacy-arrow\">\n",
       "    <path class=\"displacy-arc\" id=\"arrow-e5a59cfa0dcb486480eae4bf9a9fc3fd-0-2\" stroke-width=\"2px\" d=\"M245,177.0 C245,2.0 575.0,2.0 575.0,177.0\" fill=\"none\" stroke=\"currentColor\"/>\n",
       "    <text dy=\"1.25em\" style=\"font-size: 0.8em; letter-spacing: 1px\">\n",
       "        <textPath xlink:href=\"#arrow-e5a59cfa0dcb486480eae4bf9a9fc3fd-0-2\" class=\"displacy-label\" startOffset=\"50%\" side=\"left\" fill=\"currentColor\" text-anchor=\"middle\">xcomp</textPath>\n",
       "    </text>\n",
       "    <path class=\"displacy-arrowhead\" d=\"M575.0,179.0 L583.0,167.0 567.0,167.0\" fill=\"currentColor\"/>\n",
       "</g>\n",
       "\n",
       "<g class=\"displacy-arrow\">\n",
       "    <path class=\"displacy-arc\" id=\"arrow-e5a59cfa0dcb486480eae4bf9a9fc3fd-0-3\" stroke-width=\"2px\" d=\"M595,177.0 C595,89.5 745.0,89.5 745.0,177.0\" fill=\"none\" stroke=\"currentColor\"/>\n",
       "    <text dy=\"1.25em\" style=\"font-size: 0.8em; letter-spacing: 1px\">\n",
       "        <textPath xlink:href=\"#arrow-e5a59cfa0dcb486480eae4bf9a9fc3fd-0-3\" class=\"displacy-label\" startOffset=\"50%\" side=\"left\" fill=\"currentColor\" text-anchor=\"middle\">dobj</textPath>\n",
       "    </text>\n",
       "    <path class=\"displacy-arrowhead\" d=\"M745.0,179.0 L753.0,167.0 737.0,167.0\" fill=\"currentColor\"/>\n",
       "</g>\n",
       "\n",
       "<g class=\"displacy-arrow\">\n",
       "    <path class=\"displacy-arc\" id=\"arrow-e5a59cfa0dcb486480eae4bf9a9fc3fd-0-4\" stroke-width=\"2px\" d=\"M770,177.0 C770,89.5 920.0,89.5 920.0,177.0\" fill=\"none\" stroke=\"currentColor\"/>\n",
       "    <text dy=\"1.25em\" style=\"font-size: 0.8em; letter-spacing: 1px\">\n",
       "        <textPath xlink:href=\"#arrow-e5a59cfa0dcb486480eae4bf9a9fc3fd-0-4\" class=\"displacy-label\" startOffset=\"50%\" side=\"left\" fill=\"currentColor\" text-anchor=\"middle\">prep</textPath>\n",
       "    </text>\n",
       "    <path class=\"displacy-arrowhead\" d=\"M920.0,179.0 L928.0,167.0 912.0,167.0\" fill=\"currentColor\"/>\n",
       "</g>\n",
       "\n",
       "<g class=\"displacy-arrow\">\n",
       "    <path class=\"displacy-arc\" id=\"arrow-e5a59cfa0dcb486480eae4bf9a9fc3fd-0-5\" stroke-width=\"2px\" d=\"M945,177.0 C945,89.5 1095.0,89.5 1095.0,177.0\" fill=\"none\" stroke=\"currentColor\"/>\n",
       "    <text dy=\"1.25em\" style=\"font-size: 0.8em; letter-spacing: 1px\">\n",
       "        <textPath xlink:href=\"#arrow-e5a59cfa0dcb486480eae4bf9a9fc3fd-0-5\" class=\"displacy-label\" startOffset=\"50%\" side=\"left\" fill=\"currentColor\" text-anchor=\"middle\">pobj</textPath>\n",
       "    </text>\n",
       "    <path class=\"displacy-arrowhead\" d=\"M1095.0,179.0 L1103.0,167.0 1087.0,167.0\" fill=\"currentColor\"/>\n",
       "</g>\n",
       "</svg></span>"
      ],
      "text/plain": [
       "<IPython.core.display.HTML object>"
      ]
     },
     "metadata": {},
     "output_type": "display_data"
    }
   ],
   "source": [
    "doc = nlp(\"i want to make areservation for afligt\") \n",
    "displacy.render(doc)"
   ]
  },
  {
   "cell_type": "markdown",
   "id": "59f4036c-df02-4631-afe2-222e69d0b673",
   "metadata": {},
   "source": [
    "In this sentence, the verb-object pair that best describes the user intent is\n",
    "want-flight. However, if we look at the parse tree in Fg above, we see that\n",
    "want and flight are not directly related in the parse tree. want is related to\n",
    "the transitive verb make, and flight is related to the direct object\n",
    "reservation, respectively:\n",
    "\n",
    "What will we do then? We can play a trick and keep a list of helper verbs\n",
    "such as would like, want, make, and need. Here's the code:\n",
    "\n",
    "Please refer the book for code 😭 (293 - 297)"
   ]
  },
  {
   "cell_type": "markdown",
   "id": "f7735e5b-fed4-4ad9-8994-627e95e1da8f",
   "metadata": {},
   "source": [
    "## Semantic similarity(சொற்பொருள் ஒற்றுமை) methods for semantic parsing(சொற்பொருள் பகுத்தல்)\n",
    "\n",
    "As an NLP developer, while developing a semantic parser for a chatbot\n",
    "application, text classification, or any other semantic application, you should\n",
    "keep in my mind that users use a fairly wide set of phrases and expressions\n",
    "for each intent. In fact, if you're building a chatbot by using a platform such as\n",
    "RASA (https://rasa.com/) or on a platform such as Dialogflow\n",
    "(https://dialogflow.cloud.google.com/), you're asked to provide as many\n",
    "utterance examples as you can provide for each intent. Then, these utterances\n",
    "are used to train the intent classifier behind the scenes.\n",
    "\n",
    "There are usually two ways to recognize semantic similarity, either with a\n",
    "synonyms dictionary or with word vector-based semantic similarity methods.\n",
    "In this section, we will discuss both approaches. Let's start with how to use a\n",
    "synonyms dictionary to detect semantic similarity"
   ]
  },
  {
   "cell_type": "markdown",
   "id": "0a9e462a-6262-4250-9083-3757f56e9e2a",
   "metadata": {},
   "source": [
    "### Using Synonyms dictionary: \n",
    "\n",
    "We already went through our dataset and saw that different verbs are used to\n",
    "express the same actions. For instance, landing, arriving, and flying to verbs\n",
    "carry the same meaning, whereas leaving, departing, and flying from verbs\n",
    "form another semantic group.\n",
    "\n",
    "We already saw that in most cases, the transitive verbs and direct objects\n",
    "express the intent. An easy way to **determine whether two utterances\n",
    "represent the same intent** is to check whether the **verbs and the direct objects\n",
    "are synonyms**.\n",
    "\n",
    "Let's take an example and compare two example utterances from the dataset.\n",
    "First, we prepare a small synonyms dictionary. We include only the base\n",
    "forms of the verbs and nouns. While doing the comparison, we also use the\n",
    "base form of the words:"
   ]
  },
  {
   "cell_type": "code",
   "execution_count": 63,
   "id": "5d6e3b83-e563-42a5-aad3-adf3cd263703",
   "metadata": {},
   "outputs": [],
   "source": [
    "verbSynsets = [\n",
    "(\"show\", \"list\"),\n",
    "(\"book\", \"make a reservation\", \"buy\", \"reserve\")  # all gives the same meaning \n",
    "]\n",
    "\n",
    "objSynsets = [\n",
    "(\"meal\", \"food\"),\n",
    "(\"aircraft\", \"airplane\", \"plane\")\n",
    "]\n"
   ]
  },
  {
   "cell_type": "code",
   "execution_count": 54,
   "id": "f57697f3-129f-4075-8876-0cb04ba15613",
   "metadata": {},
   "outputs": [
    {
     "data": {
      "text/plain": [
       "[('show', 'list'), ('book', 'make a reservation', 'buy', 'reserve')]"
      ]
     },
     "execution_count": 54,
     "metadata": {},
     "output_type": "execute_result"
    }
   ],
   "source": [
    "verbSynsets"
   ]
  },
  {
   "cell_type": "code",
   "execution_count": 70,
   "id": "9e1e53e1-906d-424c-ad98-433f6c3c566d",
   "metadata": {},
   "outputs": [
    {
     "name": "stdout",
     "output_type": "stream",
     "text": [
      "[('show', 'list')]\n",
      "[('show', 'list')]\n",
      "[]\n",
      "[]\n"
     ]
    }
   ],
   "source": [
    "# first create a two doc object with same name \n",
    "doc = nlp(\"show me all aircrafts that cp uses\")\n",
    "doc2 = nlp(\"list all meals on my flight\")\n",
    "\n",
    "# Then we extract the transitive verb and direct objects(dobj) from the first utterance \n",
    "for token in doc: \n",
    "    if token.dep_ == 'dobj': \n",
    "        obj = token.lemma_   # direct object \n",
    "        verb = token.head.lemma_  # transitive verb \n",
    "        break \n",
    "        \n",
    "# Let's do this same for doc2 \n",
    "for token in doc2: \n",
    "    if token.dep_ == 'dobj': \n",
    "        obj2 = token.lemma_   # direct object \n",
    "        verb2 = token.head.lemma_  # transitive verb \n",
    "        break \n",
    "        \n",
    "# check whether the verb present in verbSynsets\n",
    "vsyn = [syn for syn in verbSynsets if verb in syn]\n",
    "vsyn1 = [syn for syn in verbSynsets if verb2 in syn]\n",
    "\n",
    "print (vsyn)\n",
    "print (vsyn1) \n",
    "\n",
    "# check the same for obj\n",
    "osyn = [syn for syn in verbSynsets if obj in syn]\n",
    "osyn2 = [syn for syn in verbSynsets if obj2 in syn]\n",
    "\n",
    "print (osyn)  # It means false. .. \n",
    "print (osyn2)"
   ]
  },
  {
   "cell_type": "markdown",
   "id": "a4aeba4a-4e04-48fe-bef4-b6a96ef25534",
   "metadata": {},
   "source": [
    "This method is not good, because To use this we need to create a very large list and try to cover all words. Instead of using this, we should try to use the another method, word vectos "
   ]
  },
  {
   "cell_type": "markdown",
   "id": "ddb5f91f-15e3-412b-a6f0-07b85e4dca53",
   "metadata": {},
   "source": [
    "### Using word vectors to recogonize semantic similarity \n",
    "\n",
    "Same like synonyms dictionary, we don't need to work with large dictionary, instead of that we can use word vectors to recogonize the similarity \n"
   ]
  },
  {
   "cell_type": "code",
   "execution_count": 72,
   "id": "72ebab77-a951-4938-bfc6-09217c55a841",
   "metadata": {},
   "outputs": [
    {
     "name": "stdout",
     "output_type": "stream",
     "text": [
      "0.1502587\n",
      "0.33161193\n"
     ]
    }
   ],
   "source": [
    "# create a doc object \n",
    "doc = nlp(\"show me all aircrafts that cp uses\")\n",
    "doc2 = nlp(\"list all meals on my flight\")\n",
    "\n",
    "# Create verb and object of the first sentence \n",
    "for token in doc: \n",
    "    if token.dep_ == 'dobj': \n",
    "        obj = token  # object \n",
    "        verb = token.head  # break \n",
    "        break \n",
    "        \n",
    "# same for second question \n",
    "for token in doc2: \n",
    "    if token.dep_ == 'dobj': \n",
    "        obj2 = token  # object \n",
    "        verb2 = token.head  # break \n",
    "        break \n",
    "\n",
    "# let's calculate the semantic similarity between two direct objects with vectors \n",
    "print(obj.similarity(obj2))  # it has very less score (it mean they are not releated) \n",
    "\n",
    "# let's calculate for words \n",
    "print(verb.similarity(verb2)) "
   ]
  },
  {
   "cell_type": "markdown",
   "id": "22b239d3-d1d6-45ad-b1d0-00583ae21e08",
   "metadata": {},
   "source": [
    "## Putting it all together"
   ]
  },
  {
   "cell_type": "code",
   "execution_count": 76,
   "id": "fb2d6dc4-491b-4a93-b4ec-6203d015f0e5",
   "metadata": {},
   "outputs": [
    {
     "name": "stdout",
     "output_type": "stream",
     "text": [
      "from denver\n",
      "to philadelphia\n"
     ]
    }
   ],
   "source": [
    "# Extract entities\n",
    "\n",
    "import spacy \n",
    "import en_core_web_md\n",
    "from spacy.matcher import Matcher\n",
    "\n",
    "nlp = en_core_web_md.load()\n",
    "matcher = Matcher(nlp.vocab) \n",
    "\n",
    "pattern = [{\"POS\":\"ADP\"}, {\"ENT_TYPE\":\"GPE\"}]  # taking adposition \n",
    "matcher.add(\"prepositionLocation\", [pattern])  # adding to matcher \n",
    "\n",
    "doc = nlp(\"show me flights from denver to philadelphia on tuesday\")\n",
    "matches = matcher(doc)\n",
    "\n",
    "for mid, start, end in matches:\n",
    "    print(doc[start:end])"
   ]
  },
  {
   "cell_type": "code",
   "execution_count": 78,
   "id": "203aafea-8a0a-4acf-8b8d-ed6c457ce7fa",
   "metadata": {},
   "outputs": [
    {
     "name": "stdout",
     "output_type": "stream",
     "text": [
      "showFlight\n"
     ]
    }
   ],
   "source": [
    "# Extract intent \n",
    "\n",
    "for token in doc: \n",
    "    if token.dep_ == 'dobj': \n",
    "        print(token.head.lemma_ + token.lemma_.capitalize()) "
   ]
  },
  {
   "cell_type": "markdown",
   "id": "a4147cf6-2dde-412b-8c95-cd2b6de38b6f",
   "metadata": {},
   "source": [
    "The final result is that the complete semantic representation of this utterance,\n",
    "intent, and entities is extracted. This is a machine-readable and usable output.\n",
    "We pass this result to the system component that made the call to the NLP\n",
    "application to generate a response action.\n"
   ]
  }
 ],
 "metadata": {
  "kernelspec": {
   "display_name": "Python 3 (ipykernel)",
   "language": "python",
   "name": "python3"
  },
  "language_info": {
   "codemirror_mode": {
    "name": "ipython",
    "version": 3
   },
   "file_extension": ".py",
   "mimetype": "text/x-python",
   "name": "python",
   "nbconvert_exporter": "python",
   "pygments_lexer": "ipython3",
   "version": "3.9.7"
  }
 },
 "nbformat": 4,
 "nbformat_minor": 5
}
