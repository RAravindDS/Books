{
 "cells": [
  {
   "cell_type": "markdown",
   "id": "a04f226e-93e3-4268-afa9-852f679aa4ac",
   "metadata": {},
   "source": [
    "**In this Chapter, w are going to learn**, this things\n",
    "\n",
    "Getting Started with spaCy, begins your spaCy journey. This\n",
    "chapter gives you an overview of NLP with Python. In this chapter, you'll\n",
    "install the spaCy library and spaCy language models and explore displaCy,\n",
    "spaCy's visualization tool. Overall, this chapter will get you started with\n",
    "installing and understanding the spaCy library.\n",
    "\n",
    "All the code available here [**😎click**](https://github.com/PacktPublishing/Mastering-spaCy)\n",
    "\n",
    "And some of the tutorials [**killl it**](https://github.com/PacktPublishing/)"
   ]
  },
  {
   "cell_type": "markdown",
   "id": "078f331d-493b-4365-adf0-4ffe894ed772",
   "metadata": {},
   "source": [
    "#### What is NLP? \n",
    "\n",
    "NLP is the process that helps machines to understand the human generated languages data, Such as text, and speech. \n",
    "\n",
    "Human language is complicated - even a short paragraph contains references to the previous words. It's quite complicated to understand by humans as well. \n",
    "\n",
    "How do we tackle this? Yes, we have a weapon called NLP. NLP with statistical models, we process linguistic features to turn the text into well-structured representation. \n",
    "\n",
    "Linguistic Features - மொழியியல் அம்சங்கள்\n",
    "\n",
    "**some of the application are search engines, translation, recommendation engines, autocomplete, chatbot, speech recognition, sentiment recogonition, and moree..**.\n",
    "\n",
    "\n",
    "**Let's take a example:** if you are typing iron man in google then you can see tony stark name also there? How google linking correctly that, this was done by **entity linking**. In NLP it was **Semantic Web**. "
   ]
  },
  {
   "cell_type": "markdown",
   "id": "01737ef1-269f-420a-9495-fda826624c55",
   "metadata": {},
   "source": [
    "#### Why Python is good for NLP? \n",
    "\n",
    "![image](images/python_uses.png)\n",
    "\n",
    "#### Basic String Operation"
   ]
  },
  {
   "cell_type": "code",
   "execution_count": 4,
   "id": "a377b6e8-ff0d-41ac-af3f-6dade47da703",
   "metadata": {},
   "outputs": [
    {
     "name": "stdout",
     "output_type": "stream",
     "text": [
      "H\n",
      "d\n",
      "e\n",
      "l\n",
      "11\n"
     ]
    }
   ],
   "source": [
    "word = \"Hello World\" \n",
    "\n",
    "print(word[0]) \n",
    "print(word[-1]) \n",
    "print(word[1])\n",
    "print(word[-2]) \n",
    "\n",
    "print(len(word))"
   ]
  },
  {
   "cell_type": "markdown",
   "id": "a9dd4f0d-f5c5-4f8f-93b5-bc96cc38a5d5",
   "metadata": {},
   "source": [
    "**String Operataions**"
   ]
  },
  {
   "cell_type": "code",
   "execution_count": 5,
   "id": "5cd4fb57-69a2-4f1d-b304-3b40b3794340",
   "metadata": {},
   "outputs": [
    {
     "name": "stdout",
     "output_type": "stream",
     "text": [
      "3\n",
      "1\n",
      "6\n",
      "-1\n",
      "9\n",
      "HELLO WORLD\n",
      "hello world\n",
      "Hello World\n",
      "Hello world\n"
     ]
    }
   ],
   "source": [
    "print(word.count('l')) \n",
    "print(word.index('e')) \n",
    "print(word.find('World'))  # return the first index of the matching word \n",
    "print(word.find('nothing'))  # if the word not in the string it will return -1 \n",
    "print(word.rfind('l'))  # helps to find the last occurence of the substring (gives the index-prettly normal stuff) \n",
    "print(word.upper())\n",
    "print(word.lower()) \n",
    "print(word.title())  # this will cpaitalize the first word of the every string (check it out on your own) \n",
    "print(word.capitalize())  # it will capitalize the first word of the string "
   ]
  },
  {
   "cell_type": "code",
   "execution_count": 4,
   "id": "64e676ff-7dbc-4e08-889e-703d2dbad22a",
   "metadata": {},
   "outputs": [
    {
     "data": {
      "text/plain": [
       "'my name is aravind'"
      ]
     },
     "execution_count": 4,
     "metadata": {},
     "output_type": "execute_result"
    }
   ],
   "source": [
    "'my name is ' + 'aravind'  # string concatenation "
   ]
  },
  {
   "cell_type": "code",
   "execution_count": 5,
   "id": "019afc06-fe13-4ad9-9141-8adb3ba75aa3",
   "metadata": {},
   "outputs": [
    {
     "data": {
      "text/plain": [
       "'aravind aravind aravind aravind aravind '"
      ]
     },
     "execution_count": 5,
     "metadata": {},
     "output_type": "execute_result"
    }
   ],
   "source": [
    "'aravind ' * 5  # multiplying the string "
   ]
  },
  {
   "cell_type": "code",
   "execution_count": 7,
   "id": "132ae47f-d881-46a7-9d57-b8da2f4714f8",
   "metadata": {},
   "outputs": [
    {
     "data": {
      "text/plain": [
       "'hello madan'"
      ]
     },
     "execution_count": 7,
     "metadata": {},
     "output_type": "execute_result"
    }
   ],
   "source": [
    "' '.join(['hello', 'madan'])  # it will join the strings, it takes the list of string and join them into one string "
   ]
  },
  {
   "cell_type": "code",
   "execution_count": 8,
   "id": "11fb4b97-6177-4541-a43a-85875fdb0c02",
   "metadata": {},
   "outputs": [
    {
     "data": {
      "text/plain": [
       "'good morning madam'"
      ]
     },
     "execution_count": 8,
     "metadata": {},
     "output_type": "execute_result"
    }
   ],
   "source": [
    "'hello madam'.replace('hello', 'good morning')"
   ]
  },
  {
   "cell_type": "markdown",
   "id": "be228126-adf3-47b4-84cb-5cdc4da06c68",
   "metadata": {},
   "source": [
    "#### Getting Started with spacy \n",
    "\n",
    "\n",
    "Spacy is an Open Source Industrial-Strength NLP. Spacy Contains pre-trained language models and word vectors for 60+ languages 😁. \n",
    "\n",
    "And lot's of other libraries is their but the spacy doing very well, Core NLP(by standford) uses the jave but spacy won for easy code, let's see some comparison between them. \n",
    "\n",
    "![image](images/spacy_comparison.png)\n",
    "\n",
    "\n",
    "#### Advantages of Spacy \n",
    "* Original data preserving tokenization.\n",
    "* Statistical sentence segmentation.\n",
    "* Named entity recognition.\n",
    "* Part-of-Speech (POS) tagging.\n",
    "* Dependency parsing.\n",
    "* Pretrained word vectors.\n",
    "* Easy integration with popular deep learning libraries. spaCy's ML library Thinc provides thin wrappers around PyTorch, TensorFlow, and MXNet. spaCy also provides wrappers for HuggingFace Transformers by spacy-transformers library. We'll see more of the Transformers in Chapter 9, spaCy and Transformers.\n",
    "* Industrial-level speed.\n",
    "* A built-in visualizer, displaCy.\n",
    "* Support for 60+ languages.\n",
    "* 46 state-of-the-art statistical models for 16 languages.\n",
    "* Space-efficient string data structures.\n",
    "* Efficient serialization.\n",
    "* Easy model packaging and usage.\n",
    "* Large community support."
   ]
  },
  {
   "cell_type": "code",
   "execution_count": 6,
   "id": "52594976-dcdb-4e73-b8ee-fed21e457380",
   "metadata": {},
   "outputs": [
    {
     "name": "stdout",
     "output_type": "stream",
     "text": [
      "3.2.1\n"
     ]
    }
   ],
   "source": [
    "# !pip install spacy\n",
    "\n",
    "import spacy \n",
    "\n",
    "print(spacy.__version__)"
   ]
  },
  {
   "cell_type": "markdown",
   "id": "f68da002-8954-4efe-8fd3-4b694d5a442a",
   "metadata": {},
   "source": [
    "Spacy Does not come up with the statistical language models, we need to install it seperately. There are several types of statistical model available here for engslish we use `en-core-web-sm` model. \n",
    "\n",
    "1. en - It representing the language `en` for `english`, `de` for `german` like that.. \n",
    "2. core - It representing the model capability. `core` means it represent the general purpose task like pos, syntax, and vectors. \n",
    "3. web - It representing the type of text that model recognize like `wiki, news, twitter` are web based text. \n",
    "4. sm - It indicates how size of the model `sm` means small, `lg` means large like that..\n",
    "\n",
    "\n",
    "Mostly Medium model works well for all the purpose, so we will use the medium model from now for this course. \n",
    "\n",
    "![img](images/en_core.png)"
   ]
  },
  {
   "cell_type": "markdown",
   "id": "21427e4d-9dea-4664-a398-4cce140fde2e",
   "metadata": {},
   "source": [
    "It is a good practice to match model genre to your text type. We recommend picking the\n",
    "genre as close as possible to your text. For example, the vocabulary in the social media\n",
    "genre will be very different from that in the Wikipedia genre. You can pick the web genre if you\n",
    "have social media posts, newspaper articles, financial news – that is, more language from\n",
    "daily life. The Wikipedia genre is suitable for rather formal articles, long documents, and\n",
    "technical documents. In case you are not sure which genre is the most suitable, you can\n",
    "download several models and test some example sentences from your own corpus and see\n",
    "how each model performs.\n"
   ]
  },
  {
   "cell_type": "code",
   "execution_count": 7,
   "id": "0f6f5947-97a3-4813-954c-2c7dd6215279",
   "metadata": {},
   "outputs": [],
   "source": [
    "import en_core_web_md  # importing the language model \n",
    "\n",
    "nlp = en_core_web_md.load()  # loading the model \n",
    "\n",
    "doc = nlp('I have a better day')  # passing a string to language model, then you can do whatever you want "
   ]
  },
  {
   "cell_type": "markdown",
   "id": "9693b448-1af1-4f43-8901-2ef3f62af1d3",
   "metadata": {},
   "source": [
    "### displaCy \n",
    "\n",
    "* It is the interactive tool for language visualization and you can also see in the [**Chrome**](https://explosion.ai/demos/displacy)\n",
    "* The visualizer performs two syntactic parses, POS tagging, and a dependency parse. \n",
    "* There are two options in the web. \n",
    "* Merge Punctuation and Merge Space. \n",
    "* The Merge Punctuation displays all the punctuation merge with sentence to show the graph clearly. \n",
    "* The second option, Merge Phrases, again gives more compact dependency trees. This option merges adjectives and nouns into one phrase; if you don'tmerge, then adjectives and nouns will be displayed individually. \n",
    "\n",
    "And it also comes with NER Visualizer, it is very helfull to see the grammatical patterns in the text. \n",
    "\n",
    "NER like people's names, company names, dates, city and country names, and so on. [**See web based NER**](https://explosion.ai/demos/displacy-ent/)"
   ]
  },
  {
   "cell_type": "code",
   "execution_count": 12,
   "id": "c3548bc3-8f78-482f-9c4c-7651955ee81b",
   "metadata": {},
   "outputs": [
    {
     "data": {
      "text/html": [
       "<span class=\"tex2jax_ignore\"><svg xmlns=\"http://www.w3.org/2000/svg\" xmlns:xlink=\"http://www.w3.org/1999/xlink\" xml:lang=\"en\" id=\"5af1a473b2c44ebfbe756f11588a5ef2-0\" class=\"displacy\" width=\"1275\" height=\"487.0\" direction=\"ltr\" style=\"max-width: none; height: 487.0px; color: #000000; background: #ffffff; font-family: Arial; direction: ltr\">\n",
       "<text class=\"displacy-token\" fill=\"currentColor\" text-anchor=\"middle\" y=\"397.0\">\n",
       "    <tspan class=\"displacy-word\" fill=\"currentColor\" x=\"50\">I</tspan>\n",
       "    <tspan class=\"displacy-tag\" dy=\"2em\" fill=\"currentColor\" x=\"50\">PRON</tspan>\n",
       "</text>\n",
       "\n",
       "<text class=\"displacy-token\" fill=\"currentColor\" text-anchor=\"middle\" y=\"397.0\">\n",
       "    <tspan class=\"displacy-word\" fill=\"currentColor\" x=\"225\">own</tspan>\n",
       "    <tspan class=\"displacy-tag\" dy=\"2em\" fill=\"currentColor\" x=\"225\">VERB</tspan>\n",
       "</text>\n",
       "\n",
       "<text class=\"displacy-token\" fill=\"currentColor\" text-anchor=\"middle\" y=\"397.0\">\n",
       "    <tspan class=\"displacy-word\" fill=\"currentColor\" x=\"400\">a</tspan>\n",
       "    <tspan class=\"displacy-tag\" dy=\"2em\" fill=\"currentColor\" x=\"400\">DET</tspan>\n",
       "</text>\n",
       "\n",
       "<text class=\"displacy-token\" fill=\"currentColor\" text-anchor=\"middle\" y=\"397.0\">\n",
       "    <tspan class=\"displacy-word\" fill=\"currentColor\" x=\"575\">bad</tspan>\n",
       "    <tspan class=\"displacy-tag\" dy=\"2em\" fill=\"currentColor\" x=\"575\">ADJ</tspan>\n",
       "</text>\n",
       "\n",
       "<text class=\"displacy-token\" fill=\"currentColor\" text-anchor=\"middle\" y=\"397.0\">\n",
       "    <tspan class=\"displacy-word\" fill=\"currentColor\" x=\"750\">cat</tspan>\n",
       "    <tspan class=\"displacy-tag\" dy=\"2em\" fill=\"currentColor\" x=\"750\">NOUN</tspan>\n",
       "</text>\n",
       "\n",
       "<text class=\"displacy-token\" fill=\"currentColor\" text-anchor=\"middle\" y=\"397.0\">\n",
       "    <tspan class=\"displacy-word\" fill=\"currentColor\" x=\"925\">with</tspan>\n",
       "    <tspan class=\"displacy-tag\" dy=\"2em\" fill=\"currentColor\" x=\"925\">ADP</tspan>\n",
       "</text>\n",
       "\n",
       "<text class=\"displacy-token\" fill=\"currentColor\" text-anchor=\"middle\" y=\"397.0\">\n",
       "    <tspan class=\"displacy-word\" fill=\"currentColor\" x=\"1100\">me</tspan>\n",
       "    <tspan class=\"displacy-tag\" dy=\"2em\" fill=\"currentColor\" x=\"1100\">PRON</tspan>\n",
       "</text>\n",
       "\n",
       "<g class=\"displacy-arrow\">\n",
       "    <path class=\"displacy-arc\" id=\"arrow-5af1a473b2c44ebfbe756f11588a5ef2-0-0\" stroke-width=\"2px\" d=\"M70,352.0 C70,264.5 210.0,264.5 210.0,352.0\" fill=\"none\" stroke=\"currentColor\"/>\n",
       "    <text dy=\"1.25em\" style=\"font-size: 0.8em; letter-spacing: 1px\">\n",
       "        <textPath xlink:href=\"#arrow-5af1a473b2c44ebfbe756f11588a5ef2-0-0\" class=\"displacy-label\" startOffset=\"50%\" side=\"left\" fill=\"currentColor\" text-anchor=\"middle\">nsubj</textPath>\n",
       "    </text>\n",
       "    <path class=\"displacy-arrowhead\" d=\"M70,354.0 L62,342.0 78,342.0\" fill=\"currentColor\"/>\n",
       "</g>\n",
       "\n",
       "<g class=\"displacy-arrow\">\n",
       "    <path class=\"displacy-arc\" id=\"arrow-5af1a473b2c44ebfbe756f11588a5ef2-0-1\" stroke-width=\"2px\" d=\"M420,352.0 C420,177.0 740.0,177.0 740.0,352.0\" fill=\"none\" stroke=\"currentColor\"/>\n",
       "    <text dy=\"1.25em\" style=\"font-size: 0.8em; letter-spacing: 1px\">\n",
       "        <textPath xlink:href=\"#arrow-5af1a473b2c44ebfbe756f11588a5ef2-0-1\" class=\"displacy-label\" startOffset=\"50%\" side=\"left\" fill=\"currentColor\" text-anchor=\"middle\">det</textPath>\n",
       "    </text>\n",
       "    <path class=\"displacy-arrowhead\" d=\"M420,354.0 L412,342.0 428,342.0\" fill=\"currentColor\"/>\n",
       "</g>\n",
       "\n",
       "<g class=\"displacy-arrow\">\n",
       "    <path class=\"displacy-arc\" id=\"arrow-5af1a473b2c44ebfbe756f11588a5ef2-0-2\" stroke-width=\"2px\" d=\"M595,352.0 C595,264.5 735.0,264.5 735.0,352.0\" fill=\"none\" stroke=\"currentColor\"/>\n",
       "    <text dy=\"1.25em\" style=\"font-size: 0.8em; letter-spacing: 1px\">\n",
       "        <textPath xlink:href=\"#arrow-5af1a473b2c44ebfbe756f11588a5ef2-0-2\" class=\"displacy-label\" startOffset=\"50%\" side=\"left\" fill=\"currentColor\" text-anchor=\"middle\">amod</textPath>\n",
       "    </text>\n",
       "    <path class=\"displacy-arrowhead\" d=\"M595,354.0 L587,342.0 603,342.0\" fill=\"currentColor\"/>\n",
       "</g>\n",
       "\n",
       "<g class=\"displacy-arrow\">\n",
       "    <path class=\"displacy-arc\" id=\"arrow-5af1a473b2c44ebfbe756f11588a5ef2-0-3\" stroke-width=\"2px\" d=\"M245,352.0 C245,89.5 745.0,89.5 745.0,352.0\" fill=\"none\" stroke=\"currentColor\"/>\n",
       "    <text dy=\"1.25em\" style=\"font-size: 0.8em; letter-spacing: 1px\">\n",
       "        <textPath xlink:href=\"#arrow-5af1a473b2c44ebfbe756f11588a5ef2-0-3\" class=\"displacy-label\" startOffset=\"50%\" side=\"left\" fill=\"currentColor\" text-anchor=\"middle\">dobj</textPath>\n",
       "    </text>\n",
       "    <path class=\"displacy-arrowhead\" d=\"M745.0,354.0 L753.0,342.0 737.0,342.0\" fill=\"currentColor\"/>\n",
       "</g>\n",
       "\n",
       "<g class=\"displacy-arrow\">\n",
       "    <path class=\"displacy-arc\" id=\"arrow-5af1a473b2c44ebfbe756f11588a5ef2-0-4\" stroke-width=\"2px\" d=\"M245,352.0 C245,2.0 925.0,2.0 925.0,352.0\" fill=\"none\" stroke=\"currentColor\"/>\n",
       "    <text dy=\"1.25em\" style=\"font-size: 0.8em; letter-spacing: 1px\">\n",
       "        <textPath xlink:href=\"#arrow-5af1a473b2c44ebfbe756f11588a5ef2-0-4\" class=\"displacy-label\" startOffset=\"50%\" side=\"left\" fill=\"currentColor\" text-anchor=\"middle\">prep</textPath>\n",
       "    </text>\n",
       "    <path class=\"displacy-arrowhead\" d=\"M925.0,354.0 L933.0,342.0 917.0,342.0\" fill=\"currentColor\"/>\n",
       "</g>\n",
       "\n",
       "<g class=\"displacy-arrow\">\n",
       "    <path class=\"displacy-arc\" id=\"arrow-5af1a473b2c44ebfbe756f11588a5ef2-0-5\" stroke-width=\"2px\" d=\"M945,352.0 C945,264.5 1085.0,264.5 1085.0,352.0\" fill=\"none\" stroke=\"currentColor\"/>\n",
       "    <text dy=\"1.25em\" style=\"font-size: 0.8em; letter-spacing: 1px\">\n",
       "        <textPath xlink:href=\"#arrow-5af1a473b2c44ebfbe756f11588a5ef2-0-5\" class=\"displacy-label\" startOffset=\"50%\" side=\"left\" fill=\"currentColor\" text-anchor=\"middle\">pobj</textPath>\n",
       "    </text>\n",
       "    <path class=\"displacy-arrowhead\" d=\"M1085.0,354.0 L1093.0,342.0 1077.0,342.0\" fill=\"currentColor\"/>\n",
       "</g>\n",
       "</svg></span>"
      ],
      "text/plain": [
       "<IPython.core.display.HTML object>"
      ]
     },
     "metadata": {},
     "output_type": "display_data"
    }
   ],
   "source": [
    "from spacy import displacy \n",
    "doc = nlp('I own a bad cat with me') \n",
    "\n",
    "displacy.render(doc, style = 'dep')  # serve-> we are starting the web server and dep is the style of the UI.\n",
    "\n",
    "\n",
    "# if you want to run it web change the 'render' to 'server' you will get the local host permission :) \n",
    "# After running this click ctrl+c if the server is not turned off, just restart the kernel "
   ]
  },
  {
   "cell_type": "code",
   "execution_count": 7,
   "id": "bf1d5fe4-2a1f-4c09-a0e7-4cac52afbf93",
   "metadata": {},
   "outputs": [
    {
     "data": {
      "text/html": [
       "<span class=\"tex2jax_ignore\"><div class=\"entities\" style=\"line-height: 2.5; direction: ltr\">\n",
       "<mark class=\"entity\" style=\"background: #aa9cfc; padding: 0.45em 0.6em; margin: 0 0.25em; line-height: 1; border-radius: 0.35em;\">\n",
       "    Bill Gates\n",
       "    <span style=\"font-size: 0.8em; font-weight: bold; line-height: 1; border-radius: 0.35em; vertical-align: middle; margin-left: 0.5rem\">PERSON</span>\n",
       "</mark>\n",
       " is the CEO of \n",
       "<mark class=\"entity\" style=\"background: #7aecec; padding: 0.45em 0.6em; margin: 0 0.25em; line-height: 1; border-radius: 0.35em;\">\n",
       "    Microsoft\n",
       "    <span style=\"font-size: 0.8em; font-weight: bold; line-height: 1; border-radius: 0.35em; vertical-align: middle; margin-left: 0.5rem\">ORG</span>\n",
       "</mark>\n",
       ".</div></span>"
      ],
      "text/plain": [
       "<IPython.core.display.HTML object>"
      ]
     },
     "metadata": {},
     "output_type": "display_data"
    }
   ],
   "source": [
    "# if you want to see entity just change the style 'dep' to 'ent' \n",
    "\n",
    "displacy.render(nlp('Bill Gates is the CEO of Microsoft.'), style = 'ent')  # entity -> person name, place name, thing name, organisation name, GPE "
   ]
  },
  {
   "cell_type": "markdown",
   "id": "4f97ba93-d4f4-4c07-97f3-4923ccc58c5e",
   "metadata": {},
   "source": [
    "Tos save this iamge,\n",
    "\n",
    "```Python \n",
    "from pathlib import Path\n",
    "\n",
    "doc = nlp('Bill Gates is the CEO of Microsoft.')\n",
    "svg = display.render(doc, style = 'dep', jupyter = False) \n",
    "\n",
    "filename = 'butterfly.jpg'\n",
    "output_path = Path('./images/'+filename) \n",
    "output_path.load('w', encoding = 'utf-8').write(svg) \n",
    "```\n",
    "\n",
    "\n",
    "To know about more styling characters [**Kill these**](http://spacy.io/usage/visualizers)"
   ]
  },
  {
   "cell_type": "code",
   "execution_count": 12,
   "id": "b617fbcb-a456-4031-b8ff-6670faff0239",
   "metadata": {},
   "outputs": [
    {
     "data": {
      "text/plain": [
       "5517"
      ]
     },
     "execution_count": 12,
     "metadata": {},
     "output_type": "execute_result"
    }
   ],
   "source": [
    "from pathlib import Path\n",
    "\n",
    "doc = nlp('Bill Gates is the CEO of Microsoft.')\n",
    "svg = displacy.render(doc, style = 'dep', jupyter = False) \n",
    "\n",
    "filename = 'butterfly.jpg'\n",
    "output_path = Path('./images/'+filename) \n",
    "\n",
    "output_path.open('w', encoding = 'utf-8').write(svg) "
   ]
  }
 ],
 "metadata": {
  "kernelspec": {
   "display_name": "Python 3 (ipykernel)",
   "language": "python",
   "name": "python3"
  },
  "language_info": {
   "codemirror_mode": {
    "name": "ipython",
    "version": 3
   },
   "file_extension": ".py",
   "mimetype": "text/x-python",
   "name": "python",
   "nbconvert_exporter": "python",
   "pygments_lexer": "ipython3",
   "version": "3.9.7"
  }
 },
 "nbformat": 4,
 "nbformat_minor": 5
}
