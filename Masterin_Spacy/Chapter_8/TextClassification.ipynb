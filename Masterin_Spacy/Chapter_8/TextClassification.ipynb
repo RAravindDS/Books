{
 "cells": [
  {
   "cell_type": "markdown",
   "id": "d0351b51-3010-4116-8f77-534249ea4c44",
   "metadata": {},
   "source": [
    "In this chapter, we will learn how to train spaCy text classifier component, **Text Categorizer**. Will integrate **Tensorflow with spaCy**\n",
    "\n",
    "Will Learn: \n",
    "\n",
    "* [**Understanding the basics of text classification**](#Understanding-the-basics-of-text-classification)\n",
    "* [**Training the spaCy text classifier**](#Training-the-spaCy-text-classifier)\n",
    "* [**Sentiment analysis with spaCy**](#Sentiment-analysis-with-spaCy)\n",
    "* Text classification with spaCy and Keras"
   ]
  },
  {
   "cell_type": "markdown",
   "id": "77b11559-cc4b-4c43-8cb1-6cc0d1d5a027",
   "metadata": {},
   "source": [
    "## Understanding the basics of text classification\n",
    "\n",
    "Text classifiers can come in different flavors. Some classifiers focus on the\n",
    "overall emotion of the text, some classifiers focus on detecting the language\n",
    "of the text, and some classifiers focus on only some words of the text, such as\n",
    "verbs. The following are some of the most common types of text\n",
    "classification and their use cases:\n",
    "\n",
    "\n",
    "**Topic Detection**Topic detection is the task of understanding the topic of\n",
    "a given text. For example, the text in a customer email could be asking\n",
    "about a refund, asking for a past bill, or simply complaining about the\n",
    "customer service.\n",
    "\n",
    "**Sentiment analysis:** Sentiment analysis is the task of understanding\n",
    "whether the text contains positive or negative emotions about a given\n",
    "subject. Sentiment analysis is used often to analyze customer reviews\n",
    "about products and services.\n",
    "\n",
    "**Language detection:** Language detection is the first step of many NLP\n",
    "systems, such as machine translation.\n",
    "\n",
    "\n",
    "<center><img src=\"images/intro.png\" width=\"600\"/></center>"
   ]
  },
  {
   "cell_type": "markdown",
   "id": "526806a3-0230-4b92-a7c4-91ea1c0658a3",
   "metadata": {},
   "source": [
    "Baisc of the text classification, everybody knows. .. .. "
   ]
  },
  {
   "cell_type": "markdown",
   "id": "c9a12fdc-e41c-447a-94f9-95b8e0836b81",
   "metadata": {},
   "source": [
    "## Training the spaCy text classifier\n",
    "\n",
    "We saw that in chapter2 and 3 having core operations such as POS, NER, dependency parser and so on in the spaCy **pipeline**, in the pipeline we have a TextCategorizer component. We will use that here. In order to train the TextCategorizer, we need to give training examples and testing examples. \n",
    "\n",
    "First we need to add this pipeline to the NLP. TextCategorizer component lies in the\n",
    "NLP pipeline; this component comes after the essential components. In the\n",
    "following diagram, textcat refers to the TextCategorizer component.\n",
    "\n",
    "\n",
    "<center><img src=\"images/cat.png\" width=\"600\"/></center>\n",
    "\n",
    "The amazing thing is it, uses the neural network architecutre, we don't need to deal with neural networks (this is a user friendly code apporach): "
   ]
  },
  {
   "cell_type": "markdown",
   "id": "e4fcd980-ca08-440a-bcc9-156d72758c3e",
   "metadata": {},
   "source": [
    "### Getting to know TextCategorizer class \n",
    "\n"
   ]
  },
  {
   "cell_type": "code",
   "execution_count": 2,
   "id": "94153a39-c0ac-4e7e-a1cd-0afada998f75",
   "metadata": {},
   "outputs": [
    {
     "data": {
      "text/plain": [
       "<spacy.pipeline.textcat.TextCategorizer at 0x149c554c820>"
      ]
     },
     "execution_count": 2,
     "metadata": {},
     "output_type": "execute_result"
    }
   ],
   "source": [
    "# let's import the text categorizer \n",
    "import spacy \n",
    "import en_core_web_md \n",
    "from spacy.pipeline.textcat import DEFAULT_SINGLE_TEXTCAT_MODEL  # it's for single lablel classifier \n",
    "from spacy.pipeline.textcat_multilabel import DEFAULT_MULTI_TEXTCAT_MODEL  # this is for multi label classification \n",
    "\n",
    "# Next we need to provide a configuration to the Textcat, we provide two parameters here. \n",
    "# 1. Threshold value \n",
    "# 2. Model Name \n",
    "\n",
    "config1 = { \n",
    "    \"threshold\" : 0.5,  \n",
    "    \"model\" : DEFAULT_SINGLE_TEXTCAT_MODEL\n",
    "}\n",
    "\n",
    "config2 = {\n",
    "    \"threshold\" : 0.5, \n",
    "    \"model\" : DEFAULT_MULTI_TEXTCAT_MODEL\n",
    "}\n",
    "    \n",
    "nlp = en_core_web_md.load()\n",
    "\n",
    "textcat1 = nlp.add_pipe(\"textcat\", config = config1) \n",
    "textcat1"
   ]
  },
  {
   "cell_type": "code",
   "execution_count": 3,
   "id": "6717dc80-1ce2-4b1e-b0ec-931221c24c99",
   "metadata": {},
   "outputs": [],
   "source": [
    "train_data = [ \n",
    "    (\"I loved this product, very easy to use.\", {\"cats\": {\"sentiment\": 1}}),\n",
    "    (\"I'll definitely purchase again. I recommend this product.\",\n",
    "    {\"cats\": {\"sentiment\": 1}}),\n",
    "    (\"This is the best product ever. I loved the scent and the feel. Will buy again.\", {\"cats\": {\"sentiment\": 1}}),\n",
    "    (\"Disappointed. This product didn't work for me at all\",{\"cats\": {\"sentiment\": 0}}),\n",
    "    (\"I hated the scent. Won't buy again\", {\"cats\": {\"sentiment\": 0}}),\n",
    "    (\"Truly horrible product. Very few amount of product for a high price. Don't recommend.\", {\"cats\": {\"sentiment\": 0}})\n",
    "]"
   ]
  },
  {
   "cell_type": "markdown",
   "id": "a42f7816-ac6b-40cf-8044-a94f463369a6",
   "metadata": {},
   "source": [
    "```Python \n",
    "import random\n",
    "from spacy.training import Example \n",
    "from spacy.pipeline.textcat_multilabel import DEFAULT_MULTI_TEXTCAT_MODEL \n",
    "\n",
    "nlp = spacy.load('en_core_web_md') \n",
    "config = { \"threshold\":0.7, \"model\": DEFAULT_MULTI_TEXTCAT_MODEL } \n",
    "textcat = nlp.add_pipe(\"textcat\", config = config) \n",
    "\n",
    "# add label to the pipeline \n",
    "textcat.add_label(\"POS\")\n",
    "textcat.add_label(\"NEG\")\n",
    "\n",
    "# adding training examples to the model \n",
    "train_examples = [Example.from_dict(nlp.make_doc(text), label) for text, label in train_data]\n",
    "\n",
    "# initializing the weight of the train_examples\n",
    "textcat.initialize(lambda: train_examples, nlp = nlp)\n",
    "\n",
    "\n",
    "# training loop \n",
    "epochs = 20 \n",
    "\n",
    "# we need to train only the \"textcat\" pipe, so we disable all other pipe \n",
    "with nlp.select_pipes(enable = \"textcat\"): \n",
    "    optimizer = nlp.resume_training()  # it helps to keeps the weight of the existing statistical model \n",
    "    \n",
    "    for i in range(epochs): \n",
    "        random.shuffle(train_data)\n",
    "        \n",
    "        for text, label in train_data: \n",
    "            doc = nlp.make_doc(text) \n",
    "            \n",
    "            example = Example.from_dict(doc, label) \n",
    "            nlp.update( [example], sgd = optimizer)\n",
    "```\n",
    "\n",
    "You can use this code, it's works fine"
   ]
  },
  {
   "cell_type": "markdown",
   "id": "067f608c-5637-4006-90a2-f7c3f8f59985",
   "metadata": {},
   "source": [
    "## Sentiment analysis with spaCy"
   ]
  },
  {
   "cell_type": "markdown",
   "id": "cefaa729-8bc5-4300-9927-1c6922eeeced",
   "metadata": {},
   "source": [
    "I know all the thing they have mentioned in chapter 8, So, I am moving here. \n",
    "\n",
    "[**Codes**](https://www.kaggle.com/code/aravindanr22052001/notebook6cf4272bc2/edit)"
   ]
  },
  {
   "cell_type": "code",
   "execution_count": null,
   "id": "c84efe78-5d20-4cf8-8728-b30de15868ae",
   "metadata": {},
   "outputs": [],
   "source": []
  },
  {
   "cell_type": "code",
   "execution_count": null,
   "id": "efa17815-39c0-4cdd-a177-b4c26ea33114",
   "metadata": {},
   "outputs": [],
   "source": []
  }
 ],
 "metadata": {
  "kernelspec": {
   "display_name": "Python 3 (ipykernel)",
   "language": "python",
   "name": "python3"
  },
  "language_info": {
   "codemirror_mode": {
    "name": "ipython",
    "version": 3
   },
   "file_extension": ".py",
   "mimetype": "text/x-python",
   "name": "python",
   "nbconvert_exporter": "python",
   "pygments_lexer": "ipython3",
   "version": "3.9.7"
  }
 },
 "nbformat": 4,
 "nbformat_minor": 5
}
