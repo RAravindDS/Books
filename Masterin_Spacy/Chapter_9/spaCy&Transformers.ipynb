{
 "cells": [
  {
   "cell_type": "markdown",
   "id": "e0f3d901-83fa-4a3c-881a-c111889672cc",
   "metadata": {},
   "source": [
    "<center><h1>spaCy and Transformers</h1></center>"
   ]
  },
  {
   "cell_type": "markdown",
   "id": "083079dc-e1c7-4fd4-a3da-2b379db9842c",
   "metadata": {},
   "source": [
    "[**Codes**](https://github.com/PacktPublishing/Mastering-spaCy/blob/main/Chapter09)\n",
    "\n",
    "In this chapter, we're going to cover the following main topics:\n",
    "* Transformers and transfer learning\n",
    "* Understanding BERT\n",
    "* Transformers and TensorFlow\n",
    "* Transformers and spaCy"
   ]
  },
  {
   "cell_type": "markdown",
   "id": "d80c25f1-1c56-4828-acc7-e8bc1cb0a946",
   "metadata": {},
   "source": [
    "[**Refer Everything here, wonderfull explanation about BERT and spaCy Transformer**](https://colab.research.google.com/drive/1n7O8dn3Nm3dq0AKwbnLJ9fIzBKFDgbX_?usp=sharing)"
   ]
  }
 ],
 "metadata": {
  "kernelspec": {
   "display_name": "Python 3 (ipykernel)",
   "language": "python",
   "name": "python3"
  },
  "language_info": {
   "codemirror_mode": {
    "name": "ipython",
    "version": 3
   },
   "file_extension": ".py",
   "mimetype": "text/x-python",
   "name": "python",
   "nbconvert_exporter": "python",
   "pygments_lexer": "ipython3",
   "version": "3.9.7"
  }
 },
 "nbformat": 4,
 "nbformat_minor": 5
}
